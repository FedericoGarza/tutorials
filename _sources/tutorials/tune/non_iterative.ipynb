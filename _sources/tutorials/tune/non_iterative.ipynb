{
 "cells": [
  {
   "cell_type": "markdown",
   "id": "0dd9798c",
   "metadata": {},
   "source": [
    "# Non-Iterative Problems"
   ]
  },
  {
   "cell_type": "code",
   "execution_count": 1,
   "id": "daec3a39",
   "metadata": {},
   "outputs": [],
   "source": [
    "import warnings\n",
    "warnings.filterwarnings(\"ignore\")"
   ]
  },
  {
   "cell_type": "code",
   "execution_count": 2,
   "id": "40275f24",
   "metadata": {},
   "outputs": [
    {
     "data": {
      "application/javascript": [
       "\n",
       "require([\"codemirror/lib/codemirror\"]);\n",
       "function set(str) {\n",
       "    var obj = {}, words = str.split(\" \");\n",
       "    for (var i = 0; i < words.length; ++i) obj[words[i]] = true;\n",
       "    return obj;\n",
       "  }\n",
       "var fugue_keywords = \"fill hash rand even presort persist broadcast params process output outtransform rowcount concurrency prepartition zip print title save append parquet csv json single checkpoint weak strong deterministic yield connect sample seed take sub callback dataframe file\";\n",
       "CodeMirror.defineMIME(\"text/x-fsql\", {\n",
       "    name: \"sql\",\n",
       "    keywords: set(fugue_keywords + \" add after all alter analyze and anti archive array as asc at between bucket buckets by cache cascade case cast change clear cluster clustered codegen collection column columns comment commit compact compactions compute concatenate cost create cross cube current current_date current_timestamp database databases data dbproperties defined delete delimited deny desc describe dfs directories distinct distribute drop else end escaped except exchange exists explain export extended external false fields fileformat first following for format formatted from full function functions global grant group grouping having if ignore import in index indexes inner inpath inputformat insert intersect interval into is items join keys last lateral lazy left like limit lines list load local location lock locks logical macro map minus msck natural no not null nulls of on optimize option options or order out outer outputformat over overwrite partition partitioned partitions percent preceding principals purge range recordreader recordwriter recover reduce refresh regexp rename repair replace reset restrict revoke right rlike role roles rollback rollup row rows schema schemas select semi separated serde serdeproperties set sets show skewed sort sorted start statistics stored stratify struct table tables tablesample tblproperties temp temporary terminated then to touch transaction transactions transform true truncate unarchive unbounded uncache union unlock unset use using values view when where window with\"),\n",
       "    builtin: set(\"date datetime tinyint smallint int bigint boolean float double string binary timestamp decimal array map struct uniontype delimited serde sequencefile textfile rcfile inputformat outputformat\"),\n",
       "    atoms: set(\"false true null\"),\n",
       "    operatorChars: /^[*\\/+\\-%<>!=~&|^]/,\n",
       "    dateSQL: set(\"time\"),\n",
       "    support: set(\"ODBCdotTable doubleQuote zerolessFloat\")\n",
       "  });\n",
       "\n",
       "CodeMirror.modeInfo.push( {\n",
       "            name: \"Fugue SQL\",\n",
       "            mime: \"text/x-fsql\",\n",
       "            mode: \"sql\"\n",
       "          } );\n",
       "\n",
       "require(['notebook/js/codecell'], function(codecell) {\n",
       "    codecell.CodeCell.options_default.highlight_modes['magic_text/x-fsql'] = {'reg':[/%%fsql/]} ;\n",
       "    Jupyter.notebook.events.on('kernel_ready.Kernel', function(){\n",
       "    Jupyter.notebook.get_cells().map(function(cell){\n",
       "        if (cell.cell_type == 'code'){ cell.auto_highlight(); } }) ;\n",
       "    });\n",
       "  });\n"
      ],
      "text/plain": [
       "<IPython.core.display.Javascript object>"
      ]
     },
     "metadata": {},
     "output_type": "display_data"
    }
   ],
   "source": [
    "from fugue_notebook import setup\n",
    "setup()"
   ]
  },
  {
   "cell_type": "code",
   "execution_count": 3,
   "id": "28c13940",
   "metadata": {},
   "outputs": [],
   "source": [
    "from tune import TUNE_OBJECT_FACTORY\n",
    "TUNE_OBJECT_FACTORY.set_temp_path(\"/tmp\")"
   ]
  },
  {
   "cell_type": "markdown",
   "id": "2efce318",
   "metadata": {},
   "source": [
    "## Load Data\n",
    "\n",
    "The [data](https://www.kaggle.com/goodwanghan/titanic-preprocessed) is from the famous [Titanic](https://www.kaggle.com/c/titanic) competition. We have preprocessed the feature set and combined with label data. For convenience, a copy of the dataset is in this repo."
   ]
  },
  {
   "cell_type": "code",
   "execution_count": 4,
   "id": "1617fc1a",
   "metadata": {},
   "outputs": [
    {
     "data": {
      "text/html": [
       "<div>\n",
       "<style scoped>\n",
       "    .dataframe tbody tr th:only-of-type {\n",
       "        vertical-align: middle;\n",
       "    }\n",
       "\n",
       "    .dataframe tbody tr th {\n",
       "        vertical-align: top;\n",
       "    }\n",
       "\n",
       "    .dataframe thead th {\n",
       "        text-align: right;\n",
       "    }\n",
       "</style>\n",
       "<table border=\"1\" class=\"dataframe\">\n",
       "  <thead>\n",
       "    <tr style=\"text-align: right;\">\n",
       "      <th></th>\n",
       "      <th>Fare</th>\n",
       "      <th>Age</th>\n",
       "      <th>Pclass</th>\n",
       "      <th>gender</th>\n",
       "      <th>C</th>\n",
       "      <th>Q</th>\n",
       "      <th>S</th>\n",
       "      <th>Family</th>\n",
       "      <th>Title</th>\n",
       "      <th>T_A4</th>\n",
       "      <th>...</th>\n",
       "      <th>T_SOC</th>\n",
       "      <th>T_SOPP</th>\n",
       "      <th>T_SOTONO2</th>\n",
       "      <th>T_SOTONOQ</th>\n",
       "      <th>T_STONO</th>\n",
       "      <th>T_STONO2</th>\n",
       "      <th>T_WC</th>\n",
       "      <th>T_WEP</th>\n",
       "      <th>T_X</th>\n",
       "      <th>label</th>\n",
       "    </tr>\n",
       "  </thead>\n",
       "  <tbody>\n",
       "    <tr>\n",
       "      <th>105</th>\n",
       "      <td>-0.489442</td>\n",
       "      <td>-0.104637</td>\n",
       "      <td>0.827377</td>\n",
       "      <td>0.737695</td>\n",
       "      <td>-0.482043</td>\n",
       "      <td>-0.307562</td>\n",
       "      <td>0.615838</td>\n",
       "      <td>-0.811922</td>\n",
       "      <td>0.666638</td>\n",
       "      <td>-0.088986</td>\n",
       "      <td>...</td>\n",
       "      <td>-0.082339</td>\n",
       "      <td>-0.058124</td>\n",
       "      <td>-0.047431</td>\n",
       "      <td>-0.130856</td>\n",
       "      <td>-0.116841</td>\n",
       "      <td>-0.082339</td>\n",
       "      <td>-0.10654</td>\n",
       "      <td>-0.058124</td>\n",
       "      <td>0.589879</td>\n",
       "      <td>0</td>\n",
       "    </tr>\n",
       "    <tr>\n",
       "      <th>68</th>\n",
       "      <td>-0.488854</td>\n",
       "      <td>-0.949986</td>\n",
       "      <td>0.827377</td>\n",
       "      <td>-1.355574</td>\n",
       "      <td>-0.482043</td>\n",
       "      <td>-0.307562</td>\n",
       "      <td>0.615838</td>\n",
       "      <td>1.231645</td>\n",
       "      <td>-0.947423</td>\n",
       "      <td>-0.088986</td>\n",
       "      <td>...</td>\n",
       "      <td>-0.082339</td>\n",
       "      <td>-0.058124</td>\n",
       "      <td>-0.047431</td>\n",
       "      <td>-0.130856</td>\n",
       "      <td>-0.116841</td>\n",
       "      <td>-0.082339</td>\n",
       "      <td>-0.10654</td>\n",
       "      <td>-0.058124</td>\n",
       "      <td>0.589879</td>\n",
       "      <td>1</td>\n",
       "    </tr>\n",
       "    <tr>\n",
       "      <th>253</th>\n",
       "      <td>-0.324253</td>\n",
       "      <td>0.049062</td>\n",
       "      <td>0.827377</td>\n",
       "      <td>0.737695</td>\n",
       "      <td>-0.482043</td>\n",
       "      <td>-0.307562</td>\n",
       "      <td>0.615838</td>\n",
       "      <td>1.231645</td>\n",
       "      <td>0.666638</td>\n",
       "      <td>-0.088986</td>\n",
       "      <td>...</td>\n",
       "      <td>-0.082339</td>\n",
       "      <td>-0.058124</td>\n",
       "      <td>-0.047431</td>\n",
       "      <td>-0.130856</td>\n",
       "      <td>-0.116841</td>\n",
       "      <td>-0.082339</td>\n",
       "      <td>-0.10654</td>\n",
       "      <td>-0.058124</td>\n",
       "      <td>-1.695262</td>\n",
       "      <td>0</td>\n",
       "    </tr>\n",
       "    <tr>\n",
       "      <th>320</th>\n",
       "      <td>-0.502445</td>\n",
       "      <td>-0.565736</td>\n",
       "      <td>0.827377</td>\n",
       "      <td>0.737695</td>\n",
       "      <td>-0.482043</td>\n",
       "      <td>-0.307562</td>\n",
       "      <td>0.615838</td>\n",
       "      <td>-0.811922</td>\n",
       "      <td>0.666638</td>\n",
       "      <td>-0.088986</td>\n",
       "      <td>...</td>\n",
       "      <td>-0.082339</td>\n",
       "      <td>-0.058124</td>\n",
       "      <td>-0.047431</td>\n",
       "      <td>-0.130856</td>\n",
       "      <td>-0.116841</td>\n",
       "      <td>-0.082339</td>\n",
       "      <td>-0.10654</td>\n",
       "      <td>-0.058124</td>\n",
       "      <td>-1.695262</td>\n",
       "      <td>0</td>\n",
       "    </tr>\n",
       "    <tr>\n",
       "      <th>706</th>\n",
       "      <td>-0.376603</td>\n",
       "      <td>1.201810</td>\n",
       "      <td>-0.369365</td>\n",
       "      <td>-1.355574</td>\n",
       "      <td>-0.482043</td>\n",
       "      <td>-0.307562</td>\n",
       "      <td>0.615838</td>\n",
       "      <td>-0.811922</td>\n",
       "      <td>-0.947423</td>\n",
       "      <td>-0.088986</td>\n",
       "      <td>...</td>\n",
       "      <td>-0.082339</td>\n",
       "      <td>-0.058124</td>\n",
       "      <td>-0.047431</td>\n",
       "      <td>-0.130856</td>\n",
       "      <td>-0.116841</td>\n",
       "      <td>-0.082339</td>\n",
       "      <td>-0.10654</td>\n",
       "      <td>-0.058124</td>\n",
       "      <td>0.589879</td>\n",
       "      <td>1</td>\n",
       "    </tr>\n",
       "    <tr>\n",
       "      <th>...</th>\n",
       "      <td>...</td>\n",
       "      <td>...</td>\n",
       "      <td>...</td>\n",
       "      <td>...</td>\n",
       "      <td>...</td>\n",
       "      <td>...</td>\n",
       "      <td>...</td>\n",
       "      <td>...</td>\n",
       "      <td>...</td>\n",
       "      <td>...</td>\n",
       "      <td>...</td>\n",
       "      <td>...</td>\n",
       "      <td>...</td>\n",
       "      <td>...</td>\n",
       "      <td>...</td>\n",
       "      <td>...</td>\n",
       "      <td>...</td>\n",
       "      <td>...</td>\n",
       "      <td>...</td>\n",
       "      <td>...</td>\n",
       "      <td>...</td>\n",
       "    </tr>\n",
       "    <tr>\n",
       "      <th>835</th>\n",
       "      <td>1.025945</td>\n",
       "      <td>0.740711</td>\n",
       "      <td>-1.566107</td>\n",
       "      <td>-1.355574</td>\n",
       "      <td>2.074505</td>\n",
       "      <td>-0.307562</td>\n",
       "      <td>-1.623803</td>\n",
       "      <td>1.231645</td>\n",
       "      <td>-0.947423</td>\n",
       "      <td>-0.088986</td>\n",
       "      <td>...</td>\n",
       "      <td>-0.082339</td>\n",
       "      <td>-0.058124</td>\n",
       "      <td>-0.047431</td>\n",
       "      <td>-0.130856</td>\n",
       "      <td>-0.116841</td>\n",
       "      <td>-0.082339</td>\n",
       "      <td>-0.10654</td>\n",
       "      <td>-0.058124</td>\n",
       "      <td>-1.695262</td>\n",
       "      <td>1</td>\n",
       "    </tr>\n",
       "    <tr>\n",
       "      <th>192</th>\n",
       "      <td>-0.490280</td>\n",
       "      <td>-0.796286</td>\n",
       "      <td>0.827377</td>\n",
       "      <td>-1.355574</td>\n",
       "      <td>-0.482043</td>\n",
       "      <td>-0.307562</td>\n",
       "      <td>0.615838</td>\n",
       "      <td>1.231645</td>\n",
       "      <td>-0.947423</td>\n",
       "      <td>-0.088986</td>\n",
       "      <td>...</td>\n",
       "      <td>-0.082339</td>\n",
       "      <td>-0.058124</td>\n",
       "      <td>-0.047431</td>\n",
       "      <td>-0.130856</td>\n",
       "      <td>-0.116841</td>\n",
       "      <td>-0.082339</td>\n",
       "      <td>-0.10654</td>\n",
       "      <td>-0.058124</td>\n",
       "      <td>0.589879</td>\n",
       "      <td>1</td>\n",
       "    </tr>\n",
       "    <tr>\n",
       "      <th>629</th>\n",
       "      <td>-0.492714</td>\n",
       "      <td>-0.104637</td>\n",
       "      <td>0.827377</td>\n",
       "      <td>0.737695</td>\n",
       "      <td>-0.482043</td>\n",
       "      <td>3.251373</td>\n",
       "      <td>-1.623803</td>\n",
       "      <td>-0.811922</td>\n",
       "      <td>0.666638</td>\n",
       "      <td>-0.088986</td>\n",
       "      <td>...</td>\n",
       "      <td>-0.082339</td>\n",
       "      <td>-0.058124</td>\n",
       "      <td>-0.047431</td>\n",
       "      <td>-0.130856</td>\n",
       "      <td>-0.116841</td>\n",
       "      <td>-0.082339</td>\n",
       "      <td>-0.10654</td>\n",
       "      <td>-0.058124</td>\n",
       "      <td>0.589879</td>\n",
       "      <td>0</td>\n",
       "    </tr>\n",
       "    <tr>\n",
       "      <th>559</th>\n",
       "      <td>-0.298078</td>\n",
       "      <td>0.510161</td>\n",
       "      <td>0.827377</td>\n",
       "      <td>-1.355574</td>\n",
       "      <td>-0.482043</td>\n",
       "      <td>-0.307562</td>\n",
       "      <td>0.615838</td>\n",
       "      <td>1.231645</td>\n",
       "      <td>-0.947423</td>\n",
       "      <td>-0.088986</td>\n",
       "      <td>...</td>\n",
       "      <td>-0.082339</td>\n",
       "      <td>-0.058124</td>\n",
       "      <td>-0.047431</td>\n",
       "      <td>-0.130856</td>\n",
       "      <td>-0.116841</td>\n",
       "      <td>-0.082339</td>\n",
       "      <td>-0.10654</td>\n",
       "      <td>-0.058124</td>\n",
       "      <td>0.589879</td>\n",
       "      <td>1</td>\n",
       "    </tr>\n",
       "    <tr>\n",
       "      <th>684</th>\n",
       "      <td>0.136831</td>\n",
       "      <td>2.354558</td>\n",
       "      <td>-0.369365</td>\n",
       "      <td>0.737695</td>\n",
       "      <td>-0.482043</td>\n",
       "      <td>-0.307562</td>\n",
       "      <td>0.615838</td>\n",
       "      <td>1.231645</td>\n",
       "      <td>0.666638</td>\n",
       "      <td>-0.088986</td>\n",
       "      <td>...</td>\n",
       "      <td>-0.082339</td>\n",
       "      <td>-0.058124</td>\n",
       "      <td>-0.047431</td>\n",
       "      <td>-0.130856</td>\n",
       "      <td>-0.116841</td>\n",
       "      <td>-0.082339</td>\n",
       "      <td>-0.10654</td>\n",
       "      <td>-0.058124</td>\n",
       "      <td>0.589879</td>\n",
       "      <td>0</td>\n",
       "    </tr>\n",
       "  </tbody>\n",
       "</table>\n",
       "<p>668 rows × 31 columns</p>\n",
       "</div>"
      ],
      "text/plain": [
       "         Fare       Age    Pclass    gender         C         Q         S  \\\n",
       "105 -0.489442 -0.104637  0.827377  0.737695 -0.482043 -0.307562  0.615838   \n",
       "68  -0.488854 -0.949986  0.827377 -1.355574 -0.482043 -0.307562  0.615838   \n",
       "253 -0.324253  0.049062  0.827377  0.737695 -0.482043 -0.307562  0.615838   \n",
       "320 -0.502445 -0.565736  0.827377  0.737695 -0.482043 -0.307562  0.615838   \n",
       "706 -0.376603  1.201810 -0.369365 -1.355574 -0.482043 -0.307562  0.615838   \n",
       "..        ...       ...       ...       ...       ...       ...       ...   \n",
       "835  1.025945  0.740711 -1.566107 -1.355574  2.074505 -0.307562 -1.623803   \n",
       "192 -0.490280 -0.796286  0.827377 -1.355574 -0.482043 -0.307562  0.615838   \n",
       "629 -0.492714 -0.104637  0.827377  0.737695 -0.482043  3.251373 -1.623803   \n",
       "559 -0.298078  0.510161  0.827377 -1.355574 -0.482043 -0.307562  0.615838   \n",
       "684  0.136831  2.354558 -0.369365  0.737695 -0.482043 -0.307562  0.615838   \n",
       "\n",
       "       Family     Title      T_A4  ...     T_SOC    T_SOPP  T_SOTONO2  \\\n",
       "105 -0.811922  0.666638 -0.088986  ... -0.082339 -0.058124  -0.047431   \n",
       "68   1.231645 -0.947423 -0.088986  ... -0.082339 -0.058124  -0.047431   \n",
       "253  1.231645  0.666638 -0.088986  ... -0.082339 -0.058124  -0.047431   \n",
       "320 -0.811922  0.666638 -0.088986  ... -0.082339 -0.058124  -0.047431   \n",
       "706 -0.811922 -0.947423 -0.088986  ... -0.082339 -0.058124  -0.047431   \n",
       "..        ...       ...       ...  ...       ...       ...        ...   \n",
       "835  1.231645 -0.947423 -0.088986  ... -0.082339 -0.058124  -0.047431   \n",
       "192  1.231645 -0.947423 -0.088986  ... -0.082339 -0.058124  -0.047431   \n",
       "629 -0.811922  0.666638 -0.088986  ... -0.082339 -0.058124  -0.047431   \n",
       "559  1.231645 -0.947423 -0.088986  ... -0.082339 -0.058124  -0.047431   \n",
       "684  1.231645  0.666638 -0.088986  ... -0.082339 -0.058124  -0.047431   \n",
       "\n",
       "     T_SOTONOQ   T_STONO  T_STONO2     T_WC     T_WEP       T_X  label  \n",
       "105  -0.130856 -0.116841 -0.082339 -0.10654 -0.058124  0.589879      0  \n",
       "68   -0.130856 -0.116841 -0.082339 -0.10654 -0.058124  0.589879      1  \n",
       "253  -0.130856 -0.116841 -0.082339 -0.10654 -0.058124 -1.695262      0  \n",
       "320  -0.130856 -0.116841 -0.082339 -0.10654 -0.058124 -1.695262      0  \n",
       "706  -0.130856 -0.116841 -0.082339 -0.10654 -0.058124  0.589879      1  \n",
       "..         ...       ...       ...      ...       ...       ...    ...  \n",
       "835  -0.130856 -0.116841 -0.082339 -0.10654 -0.058124 -1.695262      1  \n",
       "192  -0.130856 -0.116841 -0.082339 -0.10654 -0.058124  0.589879      1  \n",
       "629  -0.130856 -0.116841 -0.082339 -0.10654 -0.058124  0.589879      0  \n",
       "559  -0.130856 -0.116841 -0.082339 -0.10654 -0.058124  0.589879      1  \n",
       "684  -0.130856 -0.116841 -0.082339 -0.10654 -0.058124  0.589879      0  \n",
       "\n",
       "[668 rows x 31 columns]"
      ]
     },
     "execution_count": 4,
     "metadata": {},
     "output_type": "execute_result"
    }
   ],
   "source": [
    "import pandas as pd\n",
    "from sklearn.model_selection import train_test_split\n",
    "\n",
    "train_set = pd.read_parquet(\"../../data/titanic-preprocessed/titanic.parquet\")\n",
    "\n",
    "train, test = train_test_split(train_set, test_size=0.25, random_state=0)\n",
    "train"
   ]
  },
  {
   "cell_type": "markdown",
   "id": "48db5037",
   "metadata": {},
   "source": [
    "## Define the simplest case and run"
   ]
  },
  {
   "cell_type": "code",
   "execution_count": 5,
   "id": "41ab20ab",
   "metadata": {},
   "outputs": [],
   "source": [
    "from sklearn.linear_model import LogisticRegression\n",
    "from sklearn.ensemble import RandomForestClassifier, GradientBoostingClassifier\n",
    "from xgboost import XGBClassifier\n",
    "\n",
    "from tune import Space, Grid, Rand, RandInt, Choice\n",
    "\n",
    "from tune_sklearn import sk_space, suggest_sk_models, suggest_sk_models_by_cv"
   ]
  },
  {
   "cell_type": "markdown",
   "id": "929ed377",
   "metadata": {},
   "source": [
    "Now, let's define sklearn search space with just one model LogisticRegression without parameter and run it"
   ]
  },
  {
   "cell_type": "code",
   "execution_count": 6,
   "id": "be7bd95a",
   "metadata": {},
   "outputs": [
    {
     "name": "stderr",
     "output_type": "stream",
     "text": [
      "NativeExecutionEngine doesn't respect num_partitions ROWCOUNT\n"
     ]
    },
    {
     "name": "stdout",
     "output_type": "stream",
     "text": [
      "[{'__space__model': 'sklearn.linear_model._logistic.LogisticRegression'}]\n",
      "0.7847533632286996 [] {'__space__model': 'sklearn.linear_model._logistic.LogisticRegression'}\n"
     ]
    }
   ],
   "source": [
    "space = sk_space(LogisticRegression)\n",
    "print(list(space))\n",
    "\n",
    "result = suggest_sk_models(\n",
    "    space,\n",
    "    train, test,\n",
    "    scoring=\"accuracy\",\n",
    ")\n",
    "\n",
    "# The following code is just for demo purpose\n",
    "for r in result:\n",
    "    print(r.metric, r.trial.keys, r.trial.params)"
   ]
  },
  {
   "cell_type": "markdown",
   "id": "c9b734d0",
   "metadata": {},
   "source": [
    "## Combine search algorithms\n",
    "\n",
    "### Model Sweeping"
   ]
  },
  {
   "cell_type": "code",
   "execution_count": 7,
   "id": "f603ae26",
   "metadata": {},
   "outputs": [
    {
     "name": "stderr",
     "output_type": "stream",
     "text": [
      "NativeExecutionEngine doesn't respect num_partitions ROWCOUNT\n"
     ]
    },
    {
     "name": "stdout",
     "output_type": "stream",
     "text": [
      "0.852017937219731 [] {'__space__model': 'xgboost.sklearn.XGBClassifier', 'n_estimators': 10, 'eval_metric': 'mlogloss'}\n"
     ]
    }
   ],
   "source": [
    "space = sum([\n",
    "    sk_space(LogisticRegression),\n",
    "    sk_space(XGBClassifier, n_estimators=10, eval_metric='mlogloss')\n",
    "])\n",
    "\n",
    "result = suggest_sk_models(\n",
    "    space,\n",
    "    train, test,\n",
    "    scoring=\"accuracy\",\n",
    ")\n",
    "\n",
    "for r in result:\n",
    "    print(r.metric, r.trial.keys, r.trial.params)"
   ]
  },
  {
   "cell_type": "markdown",
   "id": "5cf1ba2f",
   "metadata": {},
   "source": [
    "### Model Sweeping + Grid + Random"
   ]
  },
  {
   "cell_type": "code",
   "execution_count": 8,
   "id": "7418c29b",
   "metadata": {},
   "outputs": [
    {
     "name": "stderr",
     "output_type": "stream",
     "text": [
      "NativeExecutionEngine doesn't respect num_partitions ROWCOUNT\n"
     ]
    },
    {
     "name": "stdout",
     "output_type": "stream",
     "text": [
      "0.8565022421524664 [] {'__space__model': 'xgboost.sklearn.XGBClassifier', 'n_estimators': 10, 'max_depth': 10, 'learning_rate': 0.306285921179203, 'eval_metric': 'mlogloss', 'n_jobs': 1}\n"
     ]
    }
   ],
   "source": [
    "space = sum([\n",
    "    sk_space(LogisticRegression),\n",
    "    sk_space(XGBClassifier, n_estimators=Grid(5,10), max_depth=Grid(5,10), \n",
    "             learning_rate=Rand(0.01,0.99), eval_metric='mlogloss', n_jobs=1).sample(5,1)\n",
    "])\n",
    "\n",
    "result = suggest_sk_models(\n",
    "    space,\n",
    "    train, test,\n",
    "    scoring=\"accuracy\",\n",
    ")\n",
    "\n",
    "for r in result:\n",
    "    print(r.metric, r.trial.keys, r.trial.params)"
   ]
  },
  {
   "cell_type": "markdown",
   "id": "413da9de",
   "metadata": {},
   "source": [
    "### Model Sweeping + Grid + Bayesian Optimization\n",
    "\n",
    "As you see, we simply remove sample from the previous code, and leave the Rand in the search space. And the setup() of fuggle package configured that when the framework detects random parameters, it will use HyperOpt to do Bayesian Optimization to find the best value. In you own environment, you can easily change this default behavior."
   ]
  },
  {
   "cell_type": "code",
   "execution_count": 9,
   "id": "c7411f9f",
   "metadata": {},
   "outputs": [],
   "source": [
    "from tune import NonIterativeObjectiveLocalOptimizer\n",
    "from tune_hyperopt import HyperoptLocalOptimizer\n",
    "from tune_optuna import OptunaLocalOptimizer\n",
    "import optuna\n",
    "\n",
    "optuna.logging.disable_default_handler()\n",
    "\n",
    "def to_optimizer(obj):\n",
    "    if isinstance(obj, NonIterativeObjectiveLocalOptimizer):\n",
    "        return obj\n",
    "    if obj is None or \"hyperopt\"==obj:\n",
    "        return HyperoptLocalOptimizer(max_iter=20, seed=0)\n",
    "    if \"optuna\" == obj:\n",
    "        return OptunaLocalOptimizer(max_iter=20)\n",
    "    raise NotImplementedError\n",
    "\n",
    "# make default level 2 optimizer HyperoptLocalOptimizer, so you will not need to set again\n",
    "TUNE_OBJECT_FACTORY.set_noniterative_local_optimizer_converter(to_optimizer)"
   ]
  },
  {
   "cell_type": "code",
   "execution_count": 10,
   "id": "e5445812",
   "metadata": {
    "scrolled": false
   },
   "outputs": [
    {
     "name": "stderr",
     "output_type": "stream",
     "text": [
      "NativeExecutionEngine doesn't respect num_partitions ROWCOUNT\n"
     ]
    },
    {
     "name": "stdout",
     "output_type": "stream",
     "text": [
      "0.8609865470852018 [] {'__space__model': 'xgboost.sklearn.XGBClassifier', 'n_estimators': 10, 'max_depth': 10, 'learning_rate': 0.5281179072339418, 'n_jobs': 1, 'eval_metric': 'mlogloss'}\n"
     ]
    }
   ],
   "source": [
    "space = sum([\n",
    "    sk_space(LogisticRegression),\n",
    "    sk_space(XGBClassifier, n_estimators=Grid(5,10), max_depth=Grid(5,10), \n",
    "             learning_rate=Rand(0.01,0.99), n_jobs=1, eval_metric='mlogloss')\n",
    "])\n",
    "\n",
    "result = suggest_sk_models(\n",
    "    space,\n",
    "    train, test,\n",
    "    scoring=\"accuracy\",\n",
    ")\n",
    "\n",
    "for r in result:\n",
    "    print(r.metric, r.trial.keys, r.trial.params)"
   ]
  },
  {
   "cell_type": "markdown",
   "id": "8585f009",
   "metadata": {},
   "source": [
    "### Model Sweeping + Grid + Random + Bayesian Optimization"
   ]
  },
  {
   "cell_type": "code",
   "execution_count": 11,
   "id": "d1074912",
   "metadata": {},
   "outputs": [
    {
     "name": "stderr",
     "output_type": "stream",
     "text": [
      "NativeExecutionEngine doesn't respect num_partitions ROWCOUNT\n"
     ]
    },
    {
     "name": "stdout",
     "output_type": "stream",
     "text": [
      "0.8699551569506726 [] {'__space__model': 'xgboost.sklearn.XGBClassifier', 'n_estimators': 10, 'learning_rate': 0.5102792654901146, 'n_jobs': 1, 'eval_metric': 'mlogloss', 'max_depth': 61}\n"
     ]
    }
   ],
   "source": [
    "space = sum([\n",
    "    sk_space(LogisticRegression),\n",
    "    sk_space(XGBClassifier, n_estimators=Grid(5,10), learning_rate=Rand(0.01,0.99), \n",
    "             n_jobs=1, eval_metric='mlogloss') * Space(max_depth=RandInt(1,100)).sample(5,0)\n",
    "])\n",
    "\n",
    "result = suggest_sk_models(\n",
    "    space,\n",
    "    train, test,\n",
    "    scoring=\"accuracy\",\n",
    ")\n",
    "\n",
    "for r in result:\n",
    "    print(r.metric, r.trial.keys, r.trial.params)"
   ]
  },
  {
   "cell_type": "markdown",
   "id": "2ef58285",
   "metadata": {},
   "source": [
    "## Partition and Train\n",
    "\n",
    "In this particular dataset, we have a gender column, so we may consider partition the dataset partitioned by gender and for each gender we train and tune separately to find the best models respectively. This is an option we can't ignore, but the outcome is not necessarily better, we just make it very easy to try - just add partition_keys:"
   ]
  },
  {
   "cell_type": "code",
   "execution_count": 12,
   "id": "fc052d28",
   "metadata": {},
   "outputs": [
    {
     "name": "stderr",
     "output_type": "stream",
     "text": [
      "NativeExecutionEngine doesn't respect num_partitions ROWCOUNT\n"
     ]
    },
    {
     "name": "stdout",
     "output_type": "stream",
     "text": [
      "0.8795180722891566 [-1.3555735383351195] {'__space__model': 'xgboost.sklearn.XGBClassifier', 'n_estimators': 5, 'max_depth': 10, 'learning_rate': 0.3907506509373887, 'n_jobs': 1, 'eval_metric': 'mlogloss'}\n",
      "0.8785714285714286 [0.7376951317802901] {'__space__model': 'xgboost.sklearn.XGBClassifier', 'n_estimators': 5, 'max_depth': 10, 'learning_rate': 0.3907506509373887, 'n_jobs': 1, 'eval_metric': 'mlogloss'}\n"
     ]
    }
   ],
   "source": [
    "space = sum([\n",
    "    sk_space(LogisticRegression),\n",
    "    sk_space(XGBClassifier, n_estimators=Grid(5,10), max_depth=Grid(5,10), \n",
    "             learning_rate=Rand(0.01,0.99), n_jobs=1, eval_metric='mlogloss')\n",
    "])\n",
    "\n",
    "result = suggest_sk_models(\n",
    "    space,\n",
    "    train, test,\n",
    "    scoring=\"accuracy\",\n",
    "    partition_keys=[\"gender\"]\n",
    ")\n",
    "\n",
    "for r in result:\n",
    "    print(r.metric, r.trial.keys, r.trial.params)"
   ]
  },
  {
   "cell_type": "markdown",
   "id": "2400a129",
   "metadata": {},
   "source": [
    "In this case, separating by gender indeed helps.\n",
    "\n",
    "## Train with Spark or Dask\n",
    "\n",
    "With the flexible space language, it's easy to contruct a space with hundreds of configurations, and also for non-toy datasets, it could take longer time to train each model. As long as each training process can fit in one machine, we are able to fully utilize Spark or Dask to do this distributely, and you don't even need to learn them.\n",
    "\n",
    "With the help of fuggle setup(), we let the system understand spark means a local spark cluster. For your own environment, it's easy to configure a real Spark or Dask cluster and use a string to represent it."
   ]
  },
  {
   "cell_type": "code",
   "execution_count": 13,
   "id": "a81a3591",
   "metadata": {},
   "outputs": [
    {
     "name": "stderr",
     "output_type": "stream",
     "text": [
      "Using Spark's default log4j profile: org/apache/spark/log4j-defaults.properties\n",
      "Setting default log level to \"WARN\".\n",
      "To adjust logging level use sc.setLogLevel(newLevel). For SparkR, use setLogLevel(newLevel).\n",
      "22/01/17 00:37:00 WARN NativeCodeLoader: Unable to load native-hadoop library for your platform... using builtin-java classes where applicable\n"
     ]
    },
    {
     "name": "stdout",
     "output_type": "stream",
     "text": [
      "0.8795180722891566 [-1.3555735383351195] {'__space__model': 'xgboost.sklearn.XGBClassifier', 'n_estimators': 5, 'max_depth': 10, 'learning_rate': 0.3907506509373887, 'n_jobs': 1, 'eval_metric': 'mlogloss', 'use_label_encoder': False}\n",
      "0.8785714285714286 [0.7376951317802901] {'__space__model': 'xgboost.sklearn.XGBClassifier', 'n_estimators': 5, 'max_depth': 10, 'learning_rate': 0.3907506509373887, 'n_jobs': 1, 'eval_metric': 'mlogloss', 'use_label_encoder': False}\n"
     ]
    }
   ],
   "source": [
    "space = sum([\n",
    "    sk_space(LogisticRegression),\n",
    "    sk_space(XGBClassifier, n_estimators=Grid(5,10), max_depth=Grid(5,10), \n",
    "             learning_rate=Rand(0.01,0.99), n_jobs=1, eval_metric='mlogloss',\n",
    "             use_label_encoder=False)\n",
    "])\n",
    "\n",
    "result = suggest_sk_models(\n",
    "    space,\n",
    "    train, test,\n",
    "    scoring=\"accuracy\",\n",
    "    partition_keys=[\"gender\"],\n",
    "    execution_engine=\"spark\"\n",
    ")\n",
    "\n",
    "for r in result:\n",
    "    print(r.metric, r.trial.keys, r.trial.params)"
   ]
  },
  {
   "cell_type": "markdown",
   "id": "7ad18a3f",
   "metadata": {},
   "source": [
    "## Realtime Monitoring\n",
    "\n",
    "For a non-toy case, the compute can take a while, it is fun and important to get realtime progress especially when you run distributedly. To do that, we firstly need to enable callback for an execution engine. And then we need to specify what to monitor. Again, with fuggle setup(), we are able to use simple strings to represent what we want to do. There are 2 types of built in monitors for non-iterative problems:\n",
    "\n",
    "1. ts to monitor the up-to-date best metric collected\n",
    "2. hist to motitor the histogram of metrics collected\n",
    "\n",
    "And they will be partitioned by partition_keys"
   ]
  },
  {
   "cell_type": "code",
   "execution_count": 14,
   "id": "7bb4fbec",
   "metadata": {},
   "outputs": [],
   "source": [
    "from typing import Optional\n",
    "from tune import Monitor\n",
    "from tune_notebook import (\n",
    "    NotebookSimpleHist,\n",
    "    NotebookSimpleRungs,\n",
    "    NotebookSimpleTimeSeries,\n",
    "    PrintBest,\n",
    ")\n",
    "\n",
    "def to_monitor(obj) -> Optional[Monitor]:\n",
    "    if obj is None:\n",
    "        return None\n",
    "    if isinstance(obj, Monitor):\n",
    "        return obj\n",
    "    if isinstance(obj, str):\n",
    "        if obj == \"hist\":\n",
    "            return NotebookSimpleHist()\n",
    "        if obj == \"rungs\":\n",
    "            return NotebookSimpleRungs()\n",
    "        if obj == \"ts\":\n",
    "            return NotebookSimpleTimeSeries()\n",
    "        if obj == \"text\":\n",
    "            return PrintBest()\n",
    "    raise NotImplementedError(obj)\n",
    "\n",
    "TUNE_OBJECT_FACTORY.set_monitor_converter(to_monitor)"
   ]
  },
  {
   "cell_type": "code",
   "execution_count": 15,
   "id": "c89b93bc",
   "metadata": {},
   "outputs": [
    {
     "data": {
      "image/png": "[encoded data removed]",
      "text/plain": [
       "<Figure size 432x288 with 1 Axes>"
      ]
     },
     "metadata": {
      "needs_background": "light"
     },
     "output_type": "display_data"
    },
    {
     "name": "stdout",
     "output_type": "stream",
     "text": [
      "[0.7376951317802901] 0.8714285714285714 {'trial': {'trial_id': '25d80e43-563e-51c3-b5d7-4dd412a6feb8', 'params': {'__space__model': 'xgboost.sklearn.XGBClassifier', 'n_estimators': 5, 'max_depth': 10, 'learning_rate': 0.5478372338487782, 'n_jobs': 1}, 'metadata': {}, 'keys': [0.7376951317802901]}, 'metric': 0.8714285714285714, 'params': {'__space__model': 'xgboost.sklearn.XGBClassifier', 'n_estimators': 5, 'max_depth': 10, 'learning_rate': 0.5478372338487782, 'n_jobs': 1}, 'metadata': {'model': 'xgboost.sklearn.XGBClassifier'}, 'cost': 1.0, 'rung': 0, 'sort_metric': -0.8714285714285714, 'log_time': datetime.datetime(2022, 1, 17, 0, 37, 38, 578177)}\n",
      "[-1.3555735383351195] 0.8795180722891566 {'trial': {'trial_id': 'fda02818-5818-5c04-8cc0-6f4530198364', 'params': {'__space__model': 'xgboost.sklearn.XGBClassifier', 'n_estimators': 5, 'max_depth': 10, 'learning_rate': 0.38577268844926216, 'n_jobs': 1}, 'metadata': {}, 'keys': [-1.3555735383351195]}, 'metric': 0.8795180722891566, 'params': {'__space__model': 'xgboost.sklearn.XGBClassifier', 'n_estimators': 5, 'max_depth': 10, 'learning_rate': 0.38577268844926216, 'n_jobs': 1}, 'metadata': {'model': 'xgboost.sklearn.XGBClassifier'}, 'cost': 1.0, 'rung': 0, 'sort_metric': -0.8795180722891566, 'log_time': datetime.datetime(2022, 1, 17, 0, 37, 40, 438451)}\n",
      "0.8795180722891566 [-1.3555735383351195] {'__space__model': 'xgboost.sklearn.XGBClassifier', 'n_estimators': 5, 'max_depth': 10, 'learning_rate': 0.38577268844926216, 'n_jobs': 1}\n",
      "0.8714285714285714 [0.7376951317802901] {'__space__model': 'xgboost.sklearn.XGBClassifier', 'n_estimators': 5, 'max_depth': 5, 'learning_rate': 0.5666836698720537, 'n_jobs': 1}\n"
     ]
    }
   ],
   "source": [
    "space = sum([\n",
    "    sk_space(LogisticRegression),\n",
    "    sk_space(XGBClassifier, n_estimators=Grid(5,10), max_depth=Grid(5,10), learning_rate=Rand(0.01,0.99), n_jobs=1).sample(20,0)\n",
    "])\n",
    "\n",
    "result = suggest_sk_models(\n",
    "    space,\n",
    "    train, test,\n",
    "    scoring=\"accuracy\",\n",
    "    partition_keys=[\"gender\"],\n",
    "    execution_engine=\"dask\",\n",
    "    execution_engine_conf={\"callback\":True},\n",
    "    monitor=\"ts\"\n",
    ")\n",
    "\n",
    "for r in result:\n",
    "    print(r.metric, r.trial.keys, r.trial.params)"
   ]
  },
  {
   "cell_type": "markdown",
   "id": "15b81aeb",
   "metadata": {},
   "source": [
    "## Use Cross Validation\n",
    "\n",
    "suggest_sk_models_by_cv should be the preferred approach to do parameter optimization, because the metric after cross validation is more robust. To use this function, we should use the entire train_set with a cv value (default 5)"
   ]
  },
  {
   "cell_type": "code",
   "execution_count": 16,
   "id": "98d40eae",
   "metadata": {},
   "outputs": [
    {
     "data": {
      "image/png": "[encoded data removed]",
      "text/plain": [
       "<Figure size 432x288 with 1 Axes>"
      ]
     },
     "metadata": {
      "needs_background": "light"
     },
     "output_type": "display_data"
    },
    {
     "name": "stdout",
     "output_type": "stream",
     "text": [
      "[0.7376951317802901] 0.8509445277361319 {'trial': {'trial_id': '17114a57-7822-5a65-9073-f50a6f798aaf', 'params': {'__space__model': 'xgboost.sklearn.XGBClassifier', 'n_estimators': 10, 'max_depth': 5, 'learning_rate': 0.0796153370339292, 'n_jobs': 1}, 'metadata': {}, 'keys': [0.7376951317802901]}, 'metric': 0.8509445277361319, 'params': {'__space__model': 'xgboost.sklearn.XGBClassifier', 'n_estimators': 10, 'max_depth': 5, 'learning_rate': 0.0796153370339292, 'n_jobs': 1}, 'metadata': {'model': 'xgboost.sklearn.XGBClassifier', 'cv_scores': [0.8448275862068966, 0.8620689655172413, 0.8434782608695652, 0.8608695652173913, 0.8434782608695652]}, 'cost': 1.0, 'rung': 0, 'sort_metric': -0.8509445277361319, 'log_time': datetime.datetime(2022, 1, 17, 0, 37, 43, 558896)}\n",
      "[-1.3555735383351195] 0.84715821812596 {'trial': {'trial_id': 'a9dc3ef9-bbb7-5d28-bdd0-4df9367885ae', 'params': {'__space__model': 'xgboost.sklearn.XGBClassifier', 'n_estimators': 10, 'max_depth': 5, 'learning_rate': 0.43883546703743864, 'n_jobs': 1}, 'metadata': {}, 'keys': [-1.3555735383351195]}, 'metric': 0.84715821812596, 'params': {'__space__model': 'xgboost.sklearn.XGBClassifier', 'n_estimators': 10, 'max_depth': 5, 'learning_rate': 0.43883546703743864, 'n_jobs': 1}, 'metadata': {'model': 'xgboost.sklearn.XGBClassifier', 'cv_scores': [0.873015873015873, 0.8095238095238095, 0.8412698412698413, 0.8571428571428571, 0.8548387096774194]}, 'cost': 1.0, 'rung': 0, 'sort_metric': -0.84715821812596, 'log_time': datetime.datetime(2022, 1, 17, 0, 37, 45, 419922)}\n",
      "0.8509445277361319 [0.7376951317802901] {'__space__model': 'xgboost.sklearn.XGBClassifier', 'n_estimators': 10, 'max_depth': 5, 'learning_rate': 0.0796153370339292, 'n_jobs': 1}\n",
      "0.84715821812596 [-1.3555735383351195] {'__space__model': 'xgboost.sklearn.XGBClassifier', 'n_estimators': 10, 'max_depth': 5, 'learning_rate': 0.43883546703743864, 'n_jobs': 1}\n"
     ]
    }
   ],
   "source": [
    "space = sum([\n",
    "    sk_space(LogisticRegression),\n",
    "    sk_space(XGBClassifier, n_estimators=Grid(5,10), max_depth=Grid(5,10), learning_rate=Rand(0.01,0.99), n_jobs=1).sample(20,0)\n",
    "])\n",
    "\n",
    "result = suggest_sk_models_by_cv(\n",
    "    space,\n",
    "    train_set,\n",
    "    cv=5,\n",
    "    scoring=\"accuracy\",\n",
    "    partition_keys=[\"gender\"],\n",
    "    execution_engine=\"dask\",\n",
    "    execution_engine_conf={\"callback\":True},\n",
    "    monitor=\"ts\"\n",
    ")\n",
    "\n",
    "for r in result:\n",
    "    print(r.metric, r.trial.keys, r.trial.params)"
   ]
  },
  {
   "cell_type": "markdown",
   "id": "2879f868",
   "metadata": {},
   "source": [
    "Notice that the metrics from the two functions are not comparable."
   ]
  }
 ],
 "metadata": {
  "kernelspec": {
   "display_name": "Python 3 (ipykernel)",
   "language": "python",
   "name": "python3"
  },
  "language_info": {
   "codemirror_mode": {
    "name": "ipython",
    "version": 3
   },
   "file_extension": ".py",
   "mimetype": "text/x-python",
   "name": "python",
   "nbconvert_exporter": "python",
   "pygments_lexer": "ipython3",
   "version": "3.7.9"
  }
 },
 "nbformat": 4,
 "nbformat_minor": 5
}
