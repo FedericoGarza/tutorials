{
 "cells": [
  {
   "cell_type": "markdown",
   "metadata": {},
   "source": [
    "# Search Space"
   ]
  },
  {
   "cell_type": "markdown",
   "metadata": {},
   "source": [
    "Search space is an important concept in parameter optimization. We know that grid search and random search are the common tuning methods. And they seem to be exclusive to each other. Actually if we have a well defined Space concept, both of them can be included.\n",
    "\n",
    "We don't see a satisfying space design in popular tuning frameworks, so here we polished this concept and created a space language. Plus, we make it as intuitive and minimal as possible."
   ]
  },
  {
   "cell_type": "markdown",
   "metadata": {},
   "source": [
    "## Core Classes & Concept\n",
    "\n",
    "The core classes include the Space class itself plus Grid and stochastic expressions. In the following example, we only import the most used ones."
   ]
  },
  {
   "cell_type": "code",
   "execution_count": 1,
   "metadata": {},
   "outputs": [],
   "source": [
    "from tune import Space, Grid, Rand, RandInt, Choice"
   ]
  },
  {
   "cell_type": "markdown",
   "metadata": {},
   "source": [
    "A space can be converted to a list of configurations (parameter combinations), and every configurations is independent and can execute any time any where."
   ]
  },
  {
   "cell_type": "markdown",
   "metadata": {},
   "source": [
    "## Static Space"
   ]
  },
  {
   "cell_type": "code",
   "execution_count": 2,
   "metadata": {},
   "outputs": [
    {
     "data": {
      "text/plain": [
       "[{'a': 1, 'b': 2}]"
      ]
     },
     "execution_count": 2,
     "metadata": {},
     "output_type": "execute_result"
    }
   ],
   "source": [
    "space = Space(a=1, b=2)\n",
    "\n",
    "list(space)  # this is how you get all combinations (configuarations) in a defined space"
   ]
  },
  {
   "cell_type": "markdown",
   "metadata": {},
   "source": [
    "## Grid Search Space\n",
    "\n",
    "Grid means every value must present in the configurations, so if there are multiple grid expressions, we simply cross product them"
   ]
  },
  {
   "cell_type": "code",
   "execution_count": 3,
   "metadata": {},
   "outputs": [
    {
     "data": {
      "text/plain": [
       "[{'a': 1, 'b': 2, 'c': 'a'},\n",
       " {'a': 1, 'b': 2, 'c': 'b'},\n",
       " {'a': 1, 'b': 3, 'c': 'a'},\n",
       " {'a': 1, 'b': 3, 'c': 'b'}]"
      ]
     },
     "execution_count": 3,
     "metadata": {},
     "output_type": "execute_result"
    }
   ],
   "source": [
    "space = Space(a=1, b=Grid(2,3), c=Grid(\"a\",\"b\"))\n",
    "\n",
    "list(space)"
   ]
  },
  {
   "cell_type": "markdown",
   "metadata": {},
   "source": [
    "## Random Search Space\n",
    "\n",
    "Stochastic expressions will randomly draw a value from the collection every time called, it does not guarantee the final sample space will contain all values. But you can control the total number of samples, so you can control the compute load."
   ]
  },
  {
   "cell_type": "code",
   "execution_count": 4,
   "metadata": {},
   "outputs": [
    {
     "data": {
      "text/plain": [
       "[{'a': 1, 'b': Rand(low=0, high=1, q=None, log=False, include_high=True), 'c': Choice('a', 'b')}]"
      ]
     },
     "execution_count": 4,
     "metadata": {},
     "output_type": "execute_result"
    }
   ],
   "source": [
    "space = Space(a=1, b=Rand(0,1), c=Choice(\"a\",\"b\"))\n",
    "\n",
    "list(space)"
   ]
  },
  {
   "cell_type": "markdown",
   "metadata": {},
   "source": [
    "So without a sampling instruction, the randome stochastic expressions do not flatten by themselves. You must be explicit on how many samples you want. Also you can set a seed to make it reproduceable."
   ]
  },
  {
   "cell_type": "code",
   "execution_count": 5,
   "metadata": {},
   "outputs": [
    {
     "data": {
      "text/plain": [
       "[{'a': 1, 'b': 0.771320643266746, 'c': 'b'},\n",
       " {'a': 1, 'b': 0.0207519493594015, 'c': 'a'},\n",
       " {'a': 1, 'b': 0.6336482349262754, 'c': 'b'}]"
      ]
     },
     "execution_count": 5,
     "metadata": {},
     "output_type": "execute_result"
    }
   ],
   "source": [
    "space = Space(a=1, b=Rand(0,1), c=Choice(\"a\",\"b\"))\n",
    "\n",
    "list(space.sample(3, seed=10))"
   ]
  },
  {
   "cell_type": "markdown",
   "metadata": {},
   "source": [
    "So far you can see that, the difference between grid and random search is just on expression. When they are converted to the Space class, they both represent a collection of configurations that can run independently. And they are both pre-determined, you know what you are going to do before real execution.\n",
    "\n",
    "You may see some newer tuning frameworks such as Optuna let you get rand variables when running a trial. It pushes the responsibility to runtime, giving you the most flexibility. However, that is no longer necessary with this design. You can keep the definition of the spaces in 'compile time'"
   ]
  },
  {
   "cell_type": "markdown",
   "metadata": {},
   "source": [
    "## Random Search Space without Sampling\n",
    "\n",
    "Why do we let this happen?"
   ]
  },
  {
   "cell_type": "code",
   "execution_count": 6,
   "metadata": {},
   "outputs": [
    {
     "data": {
      "text/plain": [
       "[{'a': 1, 'b': Rand(low=0, high=1, q=None, log=False, include_high=True), 'c': Choice('a', 'b')}]"
      ]
     },
     "execution_count": 6,
     "metadata": {},
     "output_type": "execute_result"
    }
   ],
   "source": [
    "space = Space(a=1, b=Rand(0,1), c=Choice(\"a\",\"b\"))\n",
    "\n",
    "list(space)"
   ]
  },
  {
   "cell_type": "markdown",
   "metadata": {},
   "source": [
    "This is because there is another very popular search algo: [Bayesian Optimization](https://arxiv.org/pdf/1807.02811.pdf), it requires to keep the stochastic expressions so the algo can decide what values to try at each iteration. It will utilize the historical iterations to determine the best next guess.\n",
    "\n",
    "It is sequential, but it takes much less guesses than random search to achieve comparable results. So the compute is much less, however, the total time taken is not necessarily less because random search can be fully parallelized while BO can't.\n",
    "\n",
    "To sum up, all search algos have pros and cons, do not stick with one. So that is why we are going to combine them in the next step."
   ]
  },
  {
   "cell_type": "markdown",
   "metadata": {},
   "source": [
    "## Grid + Random Search\n",
    "\n",
    "It is common that for some parameters you want to do grid search while for others you want to do random/BO search."
   ]
  },
  {
   "cell_type": "code",
   "execution_count": 7,
   "metadata": {},
   "outputs": [
    {
     "data": {
      "text/plain": [
       "[{'a': 1, 'b': 1, 'c': Rand(low=0, high=1, q=None, log=False, include_high=True)},\n",
       " {'a': 1, 'b': 2, 'c': Rand(low=0, high=1, q=None, log=False, include_high=True)}]"
      ]
     },
     "execution_count": 7,
     "metadata": {},
     "output_type": "execute_result"
    }
   ],
   "source": [
    "space = Space(a=1, b=Grid(1,2), c=Rand(0,1))\n",
    "\n",
    "list(space)"
   ]
  },
  {
   "cell_type": "markdown",
   "metadata": {},
   "source": [
    "The above space will do two BO. If you want to do grid + random then:"
   ]
  },
  {
   "cell_type": "code",
   "execution_count": 8,
   "metadata": {},
   "outputs": [
    {
     "data": {
      "text/plain": [
       "[{'a': 1, 'b': 1, 'c': 0.5833217369377363},\n",
       " {'a': 1, 'b': 2, 'c': 0.5833217369377363},\n",
       " {'a': 1, 'b': 1, 'c': 0.02517172841774562},\n",
       " {'a': 1, 'b': 2, 'c': 0.02517172841774562},\n",
       " {'a': 1, 'b': 1, 'c': 0.709208009843012},\n",
       " {'a': 1, 'b': 2, 'c': 0.709208009843012}]"
      ]
     },
     "execution_count": 8,
     "metadata": {},
     "output_type": "execute_result"
    }
   ],
   "source": [
    "space = Space(a=1, b=Grid(1,2), c=Rand(0,1)).sample(3)\n",
    "\n",
    "list(space)"
   ]
  },
  {
   "cell_type": "markdown",
   "metadata": {},
   "source": [
    "You must notice that, we firstly flatten all stochastic expressions based on `sample` then cross product with grid points, that is why you see 2*3=6 configurations. But there is contradicting semantic inside the above expression. `Grid` guarantees every values to present, but `sample` doesn't. So our design choice here is to make sure `Grid` requirement is met, and we `sample` only on stochastic expressions"
   ]
  },
  {
   "cell_type": "markdown",
   "metadata": {},
   "source": [
    "## Space Combination\n",
    "\n",
    "What if for a training set, you want to try different models with different searching algos? Let's write some pseudo code first"
   ]
  },
  {
   "cell_type": "code",
   "execution_count": 9,
   "metadata": {},
   "outputs": [],
   "source": [
    "space1 = Space(model=\"model1\", a=1, b=Grid(2,3))  # Grid search\n",
    "space2 = Space(model=\"model2\", x=Rand(3,4)).sample(2) # Random search\n",
    "space3 = Space(model=\"model3\", y=Rand(3,4))  # Bayesian Optimization"
   ]
  }
 ],
 "metadata": {
  "kernelspec": {
   "display_name": "Python 3 (ipykernel)",
   "language": "python",
   "name": "python3"
  },
  "language_info": {
   "codemirror_mode": {
    "name": "ipython",
    "version": 3
   },
   "file_extension": ".py",
   "mimetype": "text/x-python",
   "name": "python",
   "nbconvert_exporter": "python",
   "pygments_lexer": "ipython3",
   "version": "3.7.9"
  }
 },
 "nbformat": 4,
 "nbformat_minor": 2
}
