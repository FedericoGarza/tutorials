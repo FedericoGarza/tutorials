{
 "cells": [
  {
   "cell_type": "markdown",
   "id": "2e27f7aa",
   "metadata": {},
   "source": [
    "# Iterative Problems"
   ]
  },
  {
   "cell_type": "markdown",
   "id": "69b41e8b",
   "metadata": {},
   "source": [
    "Iterative problems refers to the objectives that can run in multiple iterations and in each of the iteration, it can report the current metrics and may also checkpoint and resume. To optimize iterative problems, the main approach to early stop the bad trials, and move compute resource to the promising ones.\n",
    "\n",
    "Deep learning models are the most typical iterative problems in parameter optimization."
   ]
  },
  {
   "cell_type": "code",
   "execution_count": 1,
   "id": "3ce106de",
   "metadata": {},
   "outputs": [
    {
     "data": {
      "application/javascript": [
       "\n",
       "require([\"codemirror/lib/codemirror\"]);\n",
       "function set(str) {\n",
       "    var obj = {}, words = str.split(\" \");\n",
       "    for (var i = 0; i < words.length; ++i) obj[words[i]] = true;\n",
       "    return obj;\n",
       "  }\n",
       "var fugue_keywords = \"fill hash rand even presort persist broadcast params process output outtransform rowcount concurrency prepartition zip print title save append parquet csv json single checkpoint weak strong deterministic yield connect sample seed take sub callback dataframe file\";\n",
       "CodeMirror.defineMIME(\"text/x-fsql\", {\n",
       "    name: \"sql\",\n",
       "    keywords: set(fugue_keywords + \" add after all alter analyze and anti archive array as asc at between bucket buckets by cache cascade case cast change clear cluster clustered codegen collection column columns comment commit compact compactions compute concatenate cost create cross cube current current_date current_timestamp database databases data dbproperties defined delete delimited deny desc describe dfs directories distinct distribute drop else end escaped except exchange exists explain export extended external false fields fileformat first following for format formatted from full function functions global grant group grouping having if ignore import in index indexes inner inpath inputformat insert intersect interval into is items join keys last lateral lazy left like limit lines list load local location lock locks logical macro map minus msck natural no not null nulls of on optimize option options or order out outer outputformat over overwrite partition partitioned partitions percent preceding principals purge range recordreader recordwriter recover reduce refresh regexp rename repair replace reset restrict revoke right rlike role roles rollback rollup row rows schema schemas select semi separated serde serdeproperties set sets show skewed sort sorted start statistics stored stratify struct table tables tablesample tblproperties temp temporary terminated then to touch transaction transactions transform true truncate unarchive unbounded uncache union unlock unset use using values view when where window with\"),\n",
       "    builtin: set(\"date datetime tinyint smallint int bigint boolean float double string binary timestamp decimal array map struct uniontype delimited serde sequencefile textfile rcfile inputformat outputformat\"),\n",
       "    atoms: set(\"false true null\"),\n",
       "    operatorChars: /^[*\\/+\\-%<>!=~&|^]/,\n",
       "    dateSQL: set(\"time\"),\n",
       "    support: set(\"ODBCdotTable doubleQuote zerolessFloat\")\n",
       "  });\n",
       "\n",
       "CodeMirror.modeInfo.push( {\n",
       "            name: \"Fugue SQL\",\n",
       "            mime: \"text/x-fsql\",\n",
       "            mode: \"sql\"\n",
       "          } );\n",
       "\n",
       "require(['notebook/js/codecell'], function(codecell) {\n",
       "    codecell.CodeCell.options_default.highlight_modes['magic_text/x-fsql'] = {'reg':[/%%fsql/]} ;\n",
       "    Jupyter.notebook.events.on('kernel_ready.Kernel', function(){\n",
       "    Jupyter.notebook.get_cells().map(function(cell){\n",
       "        if (cell.cell_type == 'code'){ cell.auto_highlight(); } }) ;\n",
       "    });\n",
       "  });\n"
      ],
      "text/plain": [
       "<IPython.core.display.Javascript object>"
      ]
     },
     "metadata": {},
     "output_type": "display_data"
    }
   ],
   "source": [
    "from fugue_notebook import setup\n",
    "setup()"
   ]
  },
  {
   "cell_type": "code",
   "execution_count": 2,
   "id": "04dde168",
   "metadata": {},
   "outputs": [],
   "source": [
    "from tune import TUNE_OBJECT_FACTORY\n",
    "TUNE_OBJECT_FACTORY.set_temp_path(\"/tmp\")"
   ]
  },
  {
   "cell_type": "markdown",
   "id": "e9f9f2af",
   "metadata": {},
   "source": [
    "## Reorganize Your Keras Model Code\n",
    "\n",
    "In this demo we are going to use Keras Model as our iterative problem example. To develop a keras model, we need to do several things such as construct the model, compile and fit. In order to use tune package for a keras problem, you need to fill out our template class KerasTrainingSpec, it doesn't really add anything to your logic, but it keeps your code organized. Plus with the template, you can still use it in common way - to train it on local machine given epochs. You will not lose anything or add any unnecessary thing by implementing this class."
   ]
  },
  {
   "cell_type": "code",
   "execution_count": 3,
   "id": "8fdb1698",
   "metadata": {},
   "outputs": [],
   "source": [
    "from tensorflow.keras import layers, models\n",
    "from tensorflow.keras.datasets import boston_housing\n",
    "\n",
    "from tune_tensorflow import KerasTrainingSpec\n",
    "\n",
    "class HousingSpec(KerasTrainingSpec):\n",
    "    def __init__(self, params, dfs):\n",
    "        assert 0 == len(dfs)\n",
    "        super().__init__(params, dfs)\n",
    "        (self.train_data, self.train_targets), (\n",
    "            self.test_data,\n",
    "            self.test_targets,\n",
    "        ) = boston_housing.load_data()\n",
    "\n",
    "    def get_model(self):\n",
    "        l1, l2 = self.params.simple_value[\"l1\"], self.params.simple_value[\"l2\"]\n",
    "        model = models.Sequential()\n",
    "        model.add(\n",
    "            layers.Dense(l1, activation=\"relu\", input_shape=(self.train_data.shape[1],))\n",
    "        )\n",
    "        model.add(layers.Dense(l2, activation=\"relu\"))\n",
    "        model.add(layers.Dense(1))\n",
    "        return model\n",
    "\n",
    "    def get_compile_params(self):\n",
    "        return dict(optimizer=\"rmsprop\", loss=\"mse\", metrics=[\"mae\"])\n",
    "\n",
    "    def get_fit_params(self):\n",
    "        return [self.train_data, self.train_targets], dict(\n",
    "            validation_data=(self.test_data, self.test_targets), shuffle=True\n",
    "        )\n",
    "\n",
    "    def get_fit_metric(self, history):\n",
    "        return float(history.history[\"val_mae\"][-1])\n",
    "\n",
    "    def generate_sort_metric(self, metric: float) -> float:\n",
    "        return metric"
   ]
  },
  {
   "cell_type": "markdown",
   "id": "6f692a94",
   "metadata": {},
   "source": [
    "Notice that you can also define how to save and load the current model in the template. The default way to save is to only save the weights. The default way to load is to call get_model and then load weights.\n",
    "\n",
    "For iterative problems, we will separate the execution to several rungs, each rung for a deep learning model will contain several epochs. Save and load is on rung level, not on epoch level. So if you want to checkpoint on each epoch, you can add your own callbacks.\n",
    "\n",
    "For deep learning models, it normally uses GPU to train, and it can be expensive, so before tuning, it's important to test with your local CPU or GPU to see if the training spec can run one rung successfully. To do that, you only need to call compute_sort_metric. It will produce the final output metric used for tuning. The metric must be smaller better. You can implement generate_sort_metric for different type of metrics. For errors they are already smaller better, but for things like precision, you should return the negative value to be smaller better.m"
   ]
  },
  {
   "cell_type": "code",
   "execution_count": 4,
   "id": "12c61183",
   "metadata": {},
   "outputs": [
    {
     "name": "stderr",
     "output_type": "stream",
     "text": [
      "2022-01-17 19:54:08.523834: I tensorflow/core/platform/cpu_feature_guard.cc:145] This TensorFlow binary is optimized with Intel(R) MKL-DNN to use the following CPU instructions in performance critical operations:  SSE4.1 SSE4.2\n",
      "To enable them in non-MKL-DNN operations, rebuild TensorFlow with the appropriate compiler flags.\n",
      "2022-01-17 19:54:08.524223: I tensorflow/core/common_runtime/process_util.cc:115] Creating new thread pool with default inter op setting: 8. Tune using inter_op_parallelism_threads for best performance.\n"
     ]
    },
    {
     "name": "stdout",
     "output_type": "stream",
     "text": [
      "Train on 404 samples, validate on 102 samples\n",
      "Epoch 1/3\n",
      "404/404 [==============================] - 1s 2ms/sample - loss: 27413.4412 - mae: 160.3242 - val_loss: 15522.5603 - val_mae: 121.8566\n",
      "Epoch 2/3\n",
      "404/404 [==============================] - 0s 98us/sample - loss: 10894.1324 - mae: 100.2093 - val_loss: 6229.4459 - val_mae: 74.7453\n",
      "Epoch 3/3\n",
      "404/404 [==============================] - 0s 96us/sample - loss: 4404.7381 - mae: 60.2880 - val_loss: 2329.2183 - val_mae: 42.2783\n"
     ]
    },
    {
     "data": {
      "text/plain": [
       "42.27825927734375"
      ]
     },
     "execution_count": 4,
     "metadata": {},
     "output_type": "execute_result"
    }
   ],
   "source": [
    "spec = HousingSpec(dict(l1=8, l2=16),dfs={})\n",
    "spec.compute_sort_metric(epochs=3)"
   ]
  },
  {
   "cell_type": "markdown",
   "id": "5dd9da36",
   "metadata": {},
   "source": [
    "## Define the simplest case and run\n",
    "\n",
    "After calling compute_sort_metric, we know it works fine for each run. So now let's define the search space and start tuning."
   ]
  },
  {
   "cell_type": "code",
   "execution_count": 5,
   "id": "c982821e",
   "metadata": {},
   "outputs": [],
   "source": [
    "import pandas as pd\n",
    "\n",
    "from tune import Space, Grid, Rand, RandInt, Choice\n",
    "\n",
    "from tune_tensorflow import (\n",
    "    keras_space,\n",
    "    suggest_keras_models_by_continuous_asha,\n",
    "    suggest_keras_models_by_hyperband,\n",
    "    suggest_keras_models_by_sha,\n",
    ")"
   ]
  },
  {
   "cell_type": "markdown",
   "id": "5efb8de9",
   "metadata": {},
   "source": [
    "If you have read the tutorial for non-iterative problems, you will find the utility functions are highly consistent. For keras_space, just like sk_space, you specify the spec class type, followed by hyperparameters. The following space will contain only two configurations."
   ]
  },
  {
   "cell_type": "code",
   "execution_count": 6,
   "id": "ed60b322",
   "metadata": {},
   "outputs": [
    {
     "name": "stderr",
     "output_type": "stream",
     "text": [
      "NativeExecutionEngine doesn't respect num_partitions ROWCOUNT\n"
     ]
    },
    {
     "name": "stdout",
     "output_type": "stream",
     "text": [
      "Train on 404 samples, validate on 102 samples\n",
      "Epoch 1/2\n",
      "404/404 [==============================] - 1s 1ms/sample - loss: 2440.3781 - mae: 42.7642 - val_loss: 520.0272 - val_mae: 18.5519\n",
      "Epoch 2/2\n",
      "404/404 [==============================] - 0s 98us/sample - loss: 254.3057 - mae: 12.8793 - val_loss: 179.2907 - val_mae: 10.4215\n",
      "Train on 404 samples, validate on 102 samples\n",
      "Epoch 1/2\n",
      "404/404 [==============================] - 1s 2ms/sample - loss: 590.6521 - mae: 13.9741 - val_loss: 212.2144 - val_mae: 9.9724\n",
      "Epoch 2/2\n",
      "404/404 [==============================] - 0s 133us/sample - loss: 190.8393 - mae: 9.0388 - val_loss: 106.4788 - val_mae: 7.5445\n"
     ]
    },
    {
     "data": {
      "text/plain": [
       "[{'trial': {'trial_id': 'b0961e02-bd7c-5166-8657-254d487e0262', 'params': {'__space__model': '__main__.HousingSpec', 'l1': 16, 'l2': 16}, 'metadata': {}, 'keys': []}, 'metric': 7.54452657699585, 'params': {'__space__model': '__main__.HousingSpec', 'l1': 16, 'l2': 16}, 'metadata': {}, 'cost': 2.0, 'rung': 0, 'sort_metric': 7.54452657699585, 'log_time': datetime.datetime(2022, 1, 17, 19, 54, 11, 122638)}]"
      ]
     },
     "execution_count": 6,
     "metadata": {},
     "output_type": "execute_result"
    }
   ],
   "source": [
    "space = keras_space(HousingSpec, l1=Grid(8, 16), l2=16)\n",
    "\n",
    "# using successive halving to search in the space\n",
    "result = suggest_keras_models_by_sha(\n",
    "    space,\n",
    "    plan=[(2.0,1)]  # for each of the two configurations, we run 2 epochs, and select 1 as the final result based on sorted_metric.\n",
    ")\n",
    "\n",
    "result\n"
   ]
  },
  {
   "cell_type": "markdown",
   "id": "e752c7ea",
   "metadata": {},
   "source": [
    "## Successive Halving\n",
    "\n",
    "If you don't have a lot of computing resource, for example you are tuning using your own machine with just 1 GPU, then, successive halving is a great choice. In this implementation, the models will be saved to disk after each rung, and will be retrived at the beginning of next rung if promoted."
   ]
  },
  {
   "cell_type": "code",
   "execution_count": 7,
   "id": "35cd9b6f",
   "metadata": {},
   "outputs": [
    {
     "data": {
      "text/plain": [
       "'2.0.0'"
      ]
     },
     "execution_count": 7,
     "metadata": {},
     "output_type": "execute_result"
    }
   ],
   "source": [
    "import tensorflow as tf\n",
    "tf.__version__"
   ]
  },
  {
   "cell_type": "code",
   "execution_count": 8,
   "id": "180fab53",
   "metadata": {},
   "outputs": [
    {
     "name": "stderr",
     "output_type": "stream",
     "text": [
      "NativeExecutionEngine doesn't respect num_partitions ROWCOUNT\n"
     ]
    },
    {
     "name": "stdout",
     "output_type": "stream",
     "text": [
      "Train on 404 samples, validate on 102 samples\n",
      "404/404 [==============================] - 1s 2ms/sample - loss: 1319.9363 - mae: 30.7002 - val_loss: 244.9719 - val_mae: 12.9941\n",
      "Train on 404 samples, validate on 102 samples\n",
      "404/404 [==============================] - 1s 2ms/sample - loss: 500.6304 - mae: 17.9309 - val_loss: 233.3478 - val_mae: 12.2873\n",
      "Train on 404 samples, validate on 102 samples\n",
      "404/404 [==============================] - 1s 2ms/sample - loss: 12419.4504 - mae: 102.1658 - val_loss: 2256.5096 - val_mae: 46.1901\n",
      "Train on 404 samples, validate on 102 samples\n",
      "404/404 [==============================] - 1s 2ms/sample - loss: 8233.0814 - mae: 82.0592 - val_loss: 1704.8914 - val_mae: 37.3571\n",
      "Train on 404 samples, validate on 102 samples\n",
      "404/404 [==============================] - 1s 2ms/sample - loss: 3593.6414 - mae: 40.9148 - val_loss: 1249.0543 - val_mae: 25.7184\n",
      "Train on 404 samples, validate on 102 samples\n",
      "404/404 [==============================] - 1s 2ms/sample - loss: 636.7570 - mae: 16.7616 - val_loss: 119.9766 - val_mae: 8.4691\n",
      "Train on 404 samples, validate on 102 samples\n",
      "404/404 [==============================] - 1s 2ms/sample - loss: 415.2354 - mae: 16.4452 - val_loss: 183.2412 - val_mae: 10.8545\n",
      "Train on 404 samples, validate on 102 samples\n",
      "404/404 [==============================] - 1s 2ms/sample - loss: 517.5867 - mae: 14.8204 - val_loss: 156.3005 - val_mae: 9.3106\n",
      "Train on 404 samples, validate on 102 samples\n",
      "404/404 [==============================] - 1s 2ms/sample - loss: 10987.0018 - mae: 90.8215 - val_loss: 710.4055 - val_mae: 24.4034\n",
      "Train on 404 samples, validate on 102 samples\n",
      "404/404 [==============================] - 1s 2ms/sample - loss: 1234.1413 - mae: 22.7520 - val_loss: 419.2104 - val_mae: 14.9936\n",
      "Train on 404 samples, validate on 102 samples\n",
      "404/404 [==============================] - 1s 2ms/sample - loss: 4749.5731 - mae: 63.7150 - val_loss: 1233.9628 - val_mae: 32.9337\n",
      "Train on 404 samples, validate on 102 samples\n",
      "404/404 [==============================] - 1s 2ms/sample - loss: 11247.7668 - mae: 98.5764 - val_loss: 3475.6490 - val_mae: 57.0503\n",
      "Train on 404 samples, validate on 102 samples\n",
      "404/404 [==============================] - 1s 2ms/sample - loss: 1710.5671 - mae: 34.7378 - val_loss: 430.0632 - val_mae: 17.6212\n",
      "Train on 404 samples, validate on 102 samples\n",
      "404/404 [==============================] - 1s 2ms/sample - loss: 1297.2226 - mae: 27.2466 - val_loss: 469.3585 - val_mae: 17.2943\n",
      "Train on 404 samples, validate on 102 samples\n",
      "404/404 [==============================] - 1s 2ms/sample - loss: 10914.0879 - mae: 92.9741 - val_loss: 4162.8103 - val_mae: 52.8484\n",
      "Train on 404 samples, validate on 102 samples\n",
      "404/404 [==============================] - 1s 2ms/sample - loss: 14630.9546 - mae: 115.2435 - val_loss: 4688.5856 - val_mae: 67.8056\n"
     ]
    },
    {
     "name": "stderr",
     "output_type": "stream",
     "text": [
      "NativeExecutionEngine doesn't respect num_partitions ROWCOUNT\n"
     ]
    },
    {
     "name": "stdout",
     "output_type": "stream",
     "text": [
      "Train on 404 samples, validate on 102 samples\n",
      "Epoch 2/3\n",
      "404/404 [==============================] - 1s 2ms/sample - loss: 120.4326 - mae: 8.2631 - val_loss: 64.8577 - val_mae: 6.2104\n",
      "Epoch 3/3\n",
      "404/404 [==============================] - 0s 100us/sample - loss: 68.8768 - mae: 6.0364 - val_loss: 79.5332 - val_mae: 7.7276\n",
      "Train on 404 samples, validate on 102 samples\n",
      "Epoch 2/3\n",
      "404/404 [==============================] - 1s 2ms/sample - loss: 169.3502 - mae: 10.0419 - val_loss: 94.6301 - val_mae: 7.5048\n",
      "Epoch 3/3\n",
      "404/404 [==============================] - 0s 98us/sample - loss: 86.7536 - mae: 7.2502 - val_loss: 77.5732 - val_mae: 7.1749\n",
      "Train on 404 samples, validate on 102 samples\n",
      "Epoch 2/3\n",
      "404/404 [==============================] - 1s 2ms/sample - loss: 101.8134 - mae: 7.3988 - val_loss: 79.9524 - val_mae: 6.5653\n",
      "Epoch 3/3\n",
      "404/404 [==============================] - 0s 106us/sample - loss: 79.3774 - mae: 6.3908 - val_loss: 82.5980 - val_mae: 7.5088\n",
      "Train on 404 samples, validate on 102 samples\n",
      "Epoch 2/3\n",
      "404/404 [==============================] - 1s 2ms/sample - loss: 148.0485 - mae: 8.8417 - val_loss: 109.3509 - val_mae: 8.0037\n",
      "Epoch 3/3\n",
      "404/404 [==============================] - 0s 97us/sample - loss: 95.4225 - mae: 7.1774 - val_loss: 93.0146 - val_mae: 7.0021\n",
      "Train on 404 samples, validate on 102 samples\n",
      "Epoch 2/3\n",
      "404/404 [==============================] - 1s 2ms/sample - loss: 183.6946 - mae: 10.2948 - val_loss: 105.8235 - val_mae: 8.6973\n",
      "Epoch 3/3\n",
      "404/404 [==============================] - 0s 171us/sample - loss: 114.6700 - mae: 8.2928 - val_loss: 85.7075 - val_mae: 7.4667\n",
      "Train on 404 samples, validate on 102 samples\n",
      "Epoch 2/3\n",
      "404/404 [==============================] - 1s 2ms/sample - loss: 183.4263 - mae: 8.8421 - val_loss: 92.5326 - val_mae: 7.4026\n",
      "Epoch 3/3\n",
      "404/404 [==============================] - 0s 110us/sample - loss: 79.9811 - mae: 6.4508 - val_loss: 76.1583 - val_mae: 6.6871\n",
      "Train on 404 samples, validate on 102 samples\n",
      "Epoch 2/3\n",
      "404/404 [==============================] - 1s 2ms/sample - loss: 406.4939 - mae: 16.0939 - val_loss: 214.6216 - val_mae: 11.8556\n",
      "Epoch 3/3\n",
      "404/404 [==============================] - 0s 111us/sample - loss: 240.0032 - mae: 12.1973 - val_loss: 215.2450 - val_mae: 11.7941\n",
      "Train on 404 samples, validate on 102 samples\n",
      "Epoch 2/3\n",
      "404/404 [==============================] - 1s 2ms/sample - loss: 259.9674 - mae: 12.7154 - val_loss: 119.2954 - val_mae: 8.5903\n",
      "Epoch 3/3\n",
      "404/404 [==============================] - 0s 128us/sample - loss: 115.1173 - mae: 8.1211 - val_loss: 76.7522 - val_mae: 6.8532\n"
     ]
    },
    {
     "name": "stderr",
     "output_type": "stream",
     "text": [
      "NativeExecutionEngine doesn't respect num_partitions ROWCOUNT\n"
     ]
    },
    {
     "name": "stdout",
     "output_type": "stream",
     "text": [
      "Train on 404 samples, validate on 102 samples\n",
      "Epoch 4/7\n",
      "404/404 [==============================] - 1s 2ms/sample - loss: 72.0936 - mae: 6.1744 - val_loss: 66.9929 - val_mae: 6.1877\n",
      "Epoch 5/7\n",
      "404/404 [==============================] - 0s 112us/sample - loss: 62.9729 - mae: 5.6834 - val_loss: 88.0643 - val_mae: 6.9307\n",
      "Epoch 6/7\n",
      "404/404 [==============================] - 0s 115us/sample - loss: 65.6215 - mae: 5.6781 - val_loss: 65.6765 - val_mae: 6.0891\n",
      "Epoch 7/7\n",
      "404/404 [==============================] - 0s 112us/sample - loss: 60.2537 - mae: 5.5051 - val_loss: 80.3885 - val_mae: 6.5533\n",
      "Train on 404 samples, validate on 102 samples\n",
      "Epoch 4/7\n",
      "404/404 [==============================] - 1s 2ms/sample - loss: 82.5100 - mae: 6.6947 - val_loss: 79.3555 - val_mae: 7.2332\n",
      "Epoch 5/7\n",
      "404/404 [==============================] - 0s 127us/sample - loss: 76.0593 - mae: 6.4427 - val_loss: 93.5321 - val_mae: 8.2037\n",
      "Epoch 6/7\n",
      "404/404 [==============================] - 0s 108us/sample - loss: 70.1939 - mae: 6.1561 - val_loss: 73.3954 - val_mae: 6.2125\n",
      "Epoch 7/7\n",
      "404/404 [==============================] - 0s 130us/sample - loss: 64.5558 - mae: 5.7760 - val_loss: 64.9331 - val_mae: 6.1384\n",
      "Train on 404 samples, validate on 102 samples\n",
      "Epoch 4/7\n",
      "404/404 [==============================] - 1s 2ms/sample - loss: 97.8362 - mae: 7.0518 - val_loss: 87.7088 - val_mae: 6.8388\n",
      "Epoch 5/7\n",
      "404/404 [==============================] - 0s 115us/sample - loss: 80.2479 - mae: 6.2916 - val_loss: 105.0625 - val_mae: 7.4265\n",
      "Epoch 6/7\n",
      "404/404 [==============================] - 0s 108us/sample - loss: 82.0760 - mae: 6.1993 - val_loss: 82.2425 - val_mae: 6.8280\n",
      "Epoch 7/7\n",
      "404/404 [==============================] - 0s 117us/sample - loss: 81.4513 - mae: 6.3678 - val_loss: 80.8299 - val_mae: 6.8102\n",
      "Train on 404 samples, validate on 102 samples\n",
      "Epoch 4/7\n",
      "404/404 [==============================] - 1s 2ms/sample - loss: 109.4985 - mae: 7.6691 - val_loss: 66.1248 - val_mae: 6.2350\n",
      "Epoch 5/7\n",
      "404/404 [==============================] - 0s 107us/sample - loss: 68.7070 - mae: 6.1294 - val_loss: 71.6808 - val_mae: 6.2339\n",
      "Epoch 6/7\n",
      "404/404 [==============================] - 0s 103us/sample - loss: 76.3914 - mae: 6.5145 - val_loss: 89.3213 - val_mae: 6.9795\n",
      "Epoch 7/7\n",
      "404/404 [==============================] - 0s 112us/sample - loss: 56.2741 - mae: 5.5234 - val_loss: 67.1027 - val_mae: 5.9790\n"
     ]
    },
    {
     "name": "stderr",
     "output_type": "stream",
     "text": [
      "NativeExecutionEngine doesn't respect num_partitions ROWCOUNT\n"
     ]
    },
    {
     "name": "stdout",
     "output_type": "stream",
     "text": [
      "Train on 404 samples, validate on 102 samples\n",
      "Epoch 8/15\n",
      "404/404 [==============================] - 1s 2ms/sample - loss: 88.7617 - mae: 6.4368 - val_loss: 62.2813 - val_mae: 5.8132\n",
      "Epoch 9/15\n",
      "404/404 [==============================] - 0s 98us/sample - loss: 67.9098 - mae: 6.2745 - val_loss: 57.2800 - val_mae: 5.8389\n",
      "Epoch 10/15\n",
      "404/404 [==============================] - 0s 97us/sample - loss: 60.1481 - mae: 5.6344 - val_loss: 59.0031 - val_mae: 5.6075\n",
      "Epoch 11/15\n",
      "404/404 [==============================] - 0s 108us/sample - loss: 61.0459 - mae: 5.9227 - val_loss: 89.7350 - val_mae: 7.0892\n",
      "Epoch 12/15\n",
      "404/404 [==============================] - 0s 99us/sample - loss: 62.9239 - mae: 5.9813 - val_loss: 69.6226 - val_mae: 6.1424\n",
      "Epoch 13/15\n",
      "404/404 [==============================] - 0s 98us/sample - loss: 61.2087 - mae: 5.7546 - val_loss: 62.4240 - val_mae: 6.2600\n",
      "Epoch 14/15\n",
      "404/404 [==============================] - 0s 97us/sample - loss: 60.2624 - mae: 5.9038 - val_loss: 55.9667 - val_mae: 5.4250\n",
      "Epoch 15/15\n",
      "404/404 [==============================] - 0s 101us/sample - loss: 53.0057 - mae: 5.3325 - val_loss: 54.0883 - val_mae: 5.3964\n",
      "Train on 404 samples, validate on 102 samples\n",
      "Epoch 8/15\n",
      "404/404 [==============================] - 1s 2ms/sample - loss: 69.8673 - mae: 5.9212 - val_loss: 61.8628 - val_mae: 5.8118\n",
      "Epoch 9/15\n",
      "404/404 [==============================] - 0s 97us/sample - loss: 60.3063 - mae: 5.6430 - val_loss: 78.7581 - val_mae: 7.2494\n",
      "Epoch 10/15\n",
      "404/404 [==============================] - 0s 101us/sample - loss: 63.0370 - mae: 5.6963 - val_loss: 77.6056 - val_mae: 7.2605\n",
      "Epoch 11/15\n",
      "404/404 [==============================] - 0s 99us/sample - loss: 56.2638 - mae: 5.4253 - val_loss: 60.3506 - val_mae: 5.5013\n",
      "Epoch 12/15\n",
      "404/404 [==============================] - 0s 96us/sample - loss: 57.3670 - mae: 5.4140 - val_loss: 59.5253 - val_mae: 5.6786\n",
      "Epoch 13/15\n",
      "404/404 [==============================] - 0s 97us/sample - loss: 58.1436 - mae: 5.4772 - val_loss: 57.3059 - val_mae: 5.3921\n",
      "Epoch 14/15\n",
      "404/404 [==============================] - 0s 98us/sample - loss: 58.6899 - mae: 5.6257 - val_loss: 58.5365 - val_mae: 5.3753\n",
      "Epoch 15/15\n",
      "404/404 [==============================] - 0s 97us/sample - loss: 57.2729 - mae: 5.4020 - val_loss: 53.8954 - val_mae: 5.4413\n",
      "CPU times: user 26.2 s, sys: 910 ms, total: 27.1 s\n",
      "Wall time: 25.5 s\n"
     ]
    },
    {
     "data": {
      "text/plain": [
       "[{'trial': {'trial_id': 'fb22d339-41ac-569b-95b1-7c9c4ce8148a', 'params': {'__space__model': '__main__.HousingSpec', 'l1': 21, 'l2': 31}, 'metadata': {}, 'keys': []}, 'metric': 5.396399974822998, 'params': {'__space__model': '__main__.HousingSpec', 'l1': 21, 'l2': 31}, 'metadata': {}, 'cost': 8.0, 'rung': 3, 'sort_metric': 5.396399974822998, 'log_time': datetime.datetime(2022, 1, 17, 19, 54, 35, 701089)},\n",
       " {'trial': {'trial_id': '61299f88-d921-5c5c-a19e-7885e63f6add', 'params': {'__space__model': '__main__.HousingSpec', 'l1': 21, 'l2': 8}, 'metadata': {}, 'keys': []}, 'metric': 5.441264629364014, 'params': {'__space__model': '__main__.HousingSpec', 'l1': 21, 'l2': 8}, 'metadata': {}, 'cost': 8.0, 'rung': 3, 'sort_metric': 5.441264629364014, 'log_time': datetime.datetime(2022, 1, 17, 19, 54, 36, 678024)}]"
      ]
     },
     "execution_count": 8,
     "metadata": {},
     "output_type": "execute_result"
    }
   ],
   "source": [
    "%%time\n",
    "space = keras_space(HousingSpec, l1=RandInt(8,32), l2=RandInt(8,32))\n",
    "\n",
    "result = suggest_keras_models_by_sha(\n",
    "    space.sample(16,0),\n",
    "    plan=[(1.0,8),(2.0,4),(4.0,2),(8.0,1)],  # a traditional successive halving plan, you can invent your own plan\n",
    "    top_n=2, # we only keep up to 2 best results\n",
    ")\n",
    "\n",
    "result"
   ]
  },
  {
   "cell_type": "markdown",
   "id": "ac136339",
   "metadata": {},
   "source": [
    "## Run with Spark\n",
    "\n",
    "If you have a Spark/Dask cluster, you can easily scale your search by providing a different execution_engine and execution_engine_conf. But if you are training a deep learning model, nomrally you need a GPU for each worker. How to make Spark and Dask start workers with GPU is a question about infrastructure. We can't provide a guidance here because it very environment specific.\n",
    "\n",
    "For this case we only use CPU, so we can use the local spark to utilize the 4 CPUs."
   ]
  },
  {
   "cell_type": "code",
   "execution_count": 9,
   "id": "656205d0",
   "metadata": {},
   "outputs": [
    {
     "name": "stderr",
     "output_type": "stream",
     "text": [
      "Using Spark's default log4j profile: org/apache/spark/log4j-defaults.properties\n",
      "Setting default log level to \"WARN\".\n",
      "To adjust logging level use sc.setLogLevel(newLevel). For SparkR, use setLogLevel(newLevel).\n",
      "22/01/17 19:54:48 WARN NativeCodeLoader: Unable to load native-hadoop library for your platform... using builtin-java classes where applicable\n"
     ]
    }
   ],
   "source": [
    "from pyspark import SparkContext, SparkConf\n",
    "from pyspark.sql.session import SparkSession\n",
    "from fugue_spark import SparkExecutionEngine\n",
    "\n",
    "fconf = {\n",
    "    \"fugue.rpc.server\": \"fugue.rpc.flask.FlaskRPCServer\",\n",
    "    \"fugue.rpc.flask_server.host\": \"0.0.0.0\",\n",
    "    \"fugue.rpc.flask_server.port\": \"1234\",\n",
    "    \"fugue.rpc.flask_server.timeout\": \"2 sec\",\n",
    "}\n",
    "\n",
    "conf = SparkConf().set(\"spark.ui.showConsoleProgress\", \"false\")\n",
    "sc = SparkContext(appName=\"Tuning\", conf=conf)\n",
    "spark = SparkExecutionEngine(SparkSession(sc), conf=fconf)\n"
   ]
  },
  {
   "cell_type": "code",
   "execution_count": 10,
   "id": "1714c958",
   "metadata": {},
   "outputs": [
    {
     "name": "stderr",
     "output_type": "stream",
     "text": [
      "2022-01-17 19:55:15.734290: I tensorflow/core/platform/cpu_feature_guard.cc:145] This TensorFlow binary is optimized with Intel(R) MKL-DNN to use the following CPU instructions in performance critical operations:  SSE4.1 SSE4.2\n",
      "To enable them in non-MKL-DNN operations, rebuild TensorFlow with the appropriate compiler flags.\n",
      "2022-01-17 19:55:15.739203: I tensorflow/core/common_runtime/process_util.cc:115] Creating new thread pool with default inter op setting: 8. Tune using inter_op_parallelism_threads for best performance.\n",
      "2022-01-17 19:55:15.738501: I tensorflow/core/platform/cpu_feature_guard.cc:145] This TensorFlow binary is optimized with Intel(R) MKL-DNN to use the following CPU instructions in performance critical operations:  SSE4.1 SSE4.2\n",
      "To enable them in non-MKL-DNN operations, rebuild TensorFlow with the appropriate compiler flags.\n",
      "2022-01-17 19:55:15.741943: I tensorflow/core/platform/cpu_feature_guard.cc:145] This TensorFlow binary is optimized with Intel(R) MKL-DNN to use the following CPU instructions in performance critical operations:  SSE4.1 SSE4.2\n",
      "To enable them in non-MKL-DNN operations, rebuild TensorFlow with the appropriate compiler flags.\n",
      "2022-01-17 19:55:15.747002: I tensorflow/core/platform/cpu_feature_guard.cc:145] This TensorFlow binary is optimized with Intel(R) MKL-DNN to use the following CPU instructions in performance critical operations:  SSE4.1 SSE4.2\n",
      "To enable them in non-MKL-DNN operations, rebuild TensorFlow with the appropriate compiler flags.\n",
      "2022-01-17 19:55:15.748183: I tensorflow/core/platform/cpu_feature_guard.cc:145] This TensorFlow binary is optimized with Intel(R) MKL-DNN to use the following CPU instructions in performance critical operations:  SSE4.1 SSE4.2\n",
      "To enable them in non-MKL-DNN operations, rebuild TensorFlow with the appropriate compiler flags.\n",
      "2022-01-17 19:55:15.748321: I tensorflow/core/common_runtime/process_util.cc:115] Creating new thread pool with default inter op setting: 8. Tune using inter_op_parallelism_threads for best performance.\n",
      "2022-01-17 19:55:15.748970: I tensorflow/core/platform/cpu_feature_guard.cc:145] This TensorFlow binary is optimized with Intel(R) MKL-DNN to use the following CPU instructions in performance critical operations:  SSE4.1 SSE4.2\n",
      "To enable them in non-MKL-DNN operations, rebuild TensorFlow with the appropriate compiler flags.\n",
      "2022-01-17 19:55:15.750307: I tensorflow/core/common_runtime/process_util.cc:115] Creating new thread pool with default inter op setting: 8. Tune using inter_op_parallelism_threads for best performance.\n",
      "2022-01-17 19:55:15.752247: I tensorflow/core/platform/cpu_feature_guard.cc:145] This TensorFlow binary is optimized with Intel(R) MKL-DNN to use the following CPU instructions in performance critical operations:  SSE4.1 SSE4.2\n",
      "To enable them in non-MKL-DNN operations, rebuild TensorFlow with the appropriate compiler flags.\n",
      "2022-01-17 19:55:15.753525: I tensorflow/core/common_runtime/process_util.cc:115] Creating new thread pool with default inter op setting: 8. Tune using inter_op_parallelism_threads for best performance.\n",
      "2022-01-17 19:55:15.757367: I tensorflow/core/common_runtime/process_util.cc:115] Creating new thread pool with default inter op setting: 8. Tune using inter_op_parallelism_threads for best performance.\n",
      "2022-01-17 19:55:15.760453: I tensorflow/core/common_runtime/process_util.cc:115] Creating new thread pool with default inter op setting: 8. Tune using inter_op_parallelism_threads for best performance.\n",
      "2022-01-17 19:55:15.761519: I tensorflow/core/common_runtime/process_util.cc:115] Creating new thread pool with default inter op setting: 8. Tune using inter_op_parallelism_threads for best performance.\n",
      "Train on 404 samples, validate on 102 samples\n",
      "Train on 404 samples, validate on 102 samples\n",
      "Train on 404 samples, validate on 102 samples\n",
      "Train on 404 samples, validate on 102 samples\n",
      "2022-01-17 19:55:16.187723: I tensorflow/core/platform/cpu_feature_guard.cc:145] This TensorFlow binary is optimized with Intel(R) MKL-DNN to use the following CPU instructions in performance critical operations:  SSE4.1 SSE4.2\n",
      "To enable them in non-MKL-DNN operations, rebuild TensorFlow with the appropriate compiler flags.\n",
      "Train on 404 samples, validate on 102 samples\n",
      "Train on 404 samples, validate on 102 samples\n",
      "Train on 404 samples, validate on 102 samples\n",
      "2022-01-17 19:55:16.200014: I tensorflow/core/common_runtime/process_util.cc:115] Creating new thread pool with default inter op setting: 8. Tune using inter_op_parallelism_threads for best performance.\n",
      "Train on 404 samples, validate on 102 samples\n",
      "404/404 [==============================] - 3s 6ms/sample - loss: 173.2013 - mae: 9.5698 - val_loss: 89.3675 - val_mae: 7.1400\n",
      "404/404 [==============================] - 3s 6ms/sample - loss: 3083.3485 - mae: 48.8931 - val_loss: 1090.5983 - val_mae: 26.7652\n",
      "404/404 [==============================] - 3s 7ms/sample - loss: 191.1016 - mae: 10.0670 - val_loss: 126.1737 - val_mae: 8.3870\n",
      "404/404 [==============================] - 3s 7ms/sample - loss: 169.4875 - mae: 9.2106 - val_loss: 101.3535 - val_mae: 7.4222\n",
      "404/404 [==============================] - 3s 7ms/sample - loss: 314.0382 - mae: 10.7456 - val_loss: 126.8047 - val_mae: 7.4805\n",
      "404/404 [==============================] - 3s 7ms/sample - loss: 3091.9575 - mae: 46.9695 - val_loss: 262.8983 - val_mae: 14.5257\n",
      "404/404 [==============================] - 3s 7ms/sample - loss: 619.3501 - mae: 15.1667 - val_loss: 189.3614 - val_mae: 10.2667\n",
      "404/404 [==============================] - 2s 6ms/sample - loss: 16754.8562 - mae: 117.0442 - val_loss: 3143.6652 - val_mae: 51.7394\n",
      "Train on 404 samples, validate on 102 samplesTrain on 404 samples, validate on 102 samples\n",
      "\n",
      "Train on 404 samples, validate on 102 samples\n",
      "Train on 404 samples, validate on 102 samples\n",
      "Train on 404 samples, validate on 102 samples\n",
      "Train on 404 samples, validate on 102 samples\n",
      "Train on 404 samples, validate on 102 samples\n",
      "404/404 [==============================] - 2s 4ms/sample - loss: 12017.2980 - mae: 100.0532 - val_loss: 3740.2892 - val_mae: 56.7321\n",
      "404/404 [==============================] - 2s 5ms/sample - loss: 23268.9513 - mae: 128.1369 - val_loss: 8171.4360 - val_mae: 67.8659\n",
      "404/404 [==============================] - 2s 5ms/sample - loss: 5371.4781 - mae: 53.4353 - val_loss: 1108.8825 - val_mae: 23.8276\n",
      "404/404 [==============================] - 2s 5ms/sample - loss: 133.6543 - mae: 8.6870 - val_loss: 68.7421 - val_mae: 6.3145\n",
      "404/404 [==============================] - 2s 5ms/sample - loss: 115.5216 - mae: 7.7611 - val_loss: 77.2582 - val_mae: 6.7086\n",
      "404/404 [==============================] - 2s 6ms/sample - loss: 797.1757 - mae: 19.5017 - val_loss: 100.3240 - val_mae: 7.7334\n",
      "404/404 [==============================] - 2s 6ms/sample - loss: 967.3984 - mae: 22.6780 - val_loss: 335.0724 - val_mae: 14.2882\n",
      "2022-01-17 19:55:24.319781: I tensorflow/core/platform/cpu_feature_guard.cc:145] This TensorFlow binary is optimized with Intel(R) MKL-DNN to use the following CPU instructions in performance critical operations:  SSE4.1 SSE4.2\n",
      "To enable them in non-MKL-DNN operations, rebuild TensorFlow with the appropriate compiler flags.\n",
      "2022-01-17 19:55:24.325347: I tensorflow/core/common_runtime/process_util.cc:115] Creating new thread pool with default inter op setting: 8. Tune using inter_op_parallelism_threads for best performance.\n",
      "Train on 404 samples, validate on 102 samples\n",
      "404/404 [==============================] - 1s 3ms/sample - loss: 416.9083 - mae: 14.4876 - val_loss: 185.1612 - val_mae: 10.8551\n",
      "Train on 404 samples, validate on 102 samples\n",
      "Epoch 2/3\n",
      "Train on 404 samples, validate on 102 samples\n",
      "Epoch 2/3\n",
      "Train on 404 samples, validate on 102 samples\n",
      "Epoch 2/3\n",
      "Train on 404 samples, validate on 102 samples\n",
      "Epoch 2/3\n",
      "Train on 404 samples, validate on 102 samples\n",
      "Epoch 2/3\n",
      "Train on 404 samples, validate on 102 samples\n",
      "Epoch 2/3\n",
      "Train on 404 samples, validate on 102 samples\n",
      "Epoch 2/3\n",
      "404/404 [==============================] - 2s 4ms/sample - loss: 97.8723 - mae: 7.0702 - val_loss: 94.8243 - val_mae: 7.9663\n",
      "Epoch 3/3\n",
      "404/404 [==============================] - 2s 4ms/sample - loss: 118.8510 - mae: 7.6408 - val_loss: 87.3539 - val_mae: 7.2623\n",
      "Epoch 3/3\n"
     ]
    },
    {
     "name": "stderr",
     "output_type": "stream",
     "text": [
      "404/404 [==============================] - 0s 359us/sample - loss: 76.1740 - mae: 6.3161 - val_loss: 194.4426 - val_mae: 11.5665\n",
      "404/404 [==============================] - 2s 5ms/sample - loss: 108.1166 - mae: 7.6912 - val_loss: 106.0189 - val_mae: 7.6417\n",
      "Epoch 3/3\n",
      "404/404 [==============================] - 2s 4ms/sample - loss: 79.0589 - mae: 6.3961 - val_loss: 72.6850 - val_mae: 6.3838\n",
      "Epoch 3/3\n",
      "404/404 [==============================] - 2s 5ms/sample - loss: 120.2889 - mae: 8.0981 - val_loss: 100.1122 - val_mae: 7.7225\n",
      "Epoch 3/3\n",
      "404/404 [==============================] - 2s 4ms/sample - loss: 70.1822 - mae: 6.0738 - val_loss: 64.3547 - val_mae: 5.7275\n",
      "Epoch 3/3\n",
      "404/404 [==============================] - 0s 386us/sample - loss: 100.6062 - mae: 7.2877 - val_loss: 79.3854 - val_mae: 6.3384\n",
      "404/404 [==============================] - 2s 5ms/sample - loss: 89.2055 - mae: 6.7816 - val_loss: 70.8787 - val_mae: 6.2733\n",
      "Epoch 3/3\n",
      "404/404 [==============================] - 0s 393us/sample - loss: 81.3747 - mae: 6.3619 - val_loss: 78.2807 - val_mae: 6.3891\n",
      "404/404 [==============================] - 0s 413us/sample - loss: 64.8887 - mae: 5.7490 - val_loss: 118.4534 - val_mae: 8.2835\n",
      "404/404 [==============================] - 0s 439us/sample - loss: 88.3793 - mae: 7.0270 - val_loss: 88.6022 - val_mae: 7.4499\n",
      "404/404 [==============================] - 0s 440us/sample - loss: 58.7877 - mae: 5.3997 - val_loss: 62.9523 - val_mae: 5.8156\n",
      "404/404 [==============================] - 0s 503us/sample - loss: 72.3159 - mae: 5.8794 - val_loss: 72.1742 - val_mae: 6.1896\n",
      "2022-01-17 19:55:37.540533: I tensorflow/core/platform/cpu_feature_guard.cc:145] This TensorFlow binary is optimized with Intel(R) MKL-DNN to use the following CPU instructions in performance critical operations:  SSE4.1 SSE4.2\n",
      "To enable them in non-MKL-DNN operations, rebuild TensorFlow with the appropriate compiler flags.\n",
      "2022-01-17 19:55:37.546558: I tensorflow/core/common_runtime/process_util.cc:115] Creating new thread pool with default inter op setting: 8. Tune using inter_op_parallelism_threads for best performance.\n",
      "Train on 404 samples, validate on 102 samples\n",
      "Epoch 2/3\n",
      "404/404 [==============================] - 1s 3ms/sample - loss: 119.1461 - mae: 7.5404 - val_loss: 79.1548 - val_mae: 6.9795\n",
      "Epoch 3/3\n",
      "404/404 [==============================] - 0s 318us/sample - loss: 93.1741 - mae: 7.0583 - val_loss: 77.6463 - val_mae: 7.0785\n",
      "Train on 404 samples, validate on 102 samples\n",
      "Epoch 4/7\n",
      "Train on 404 samples, validate on 102 samples\n",
      "Epoch 4/7\n",
      "Train on 404 samples, validate on 102 samples\n",
      "Epoch 4/7\n",
      "404/404 [==============================] - 1s 3ms/sample - loss: 71.0895 - mae: 5.9972 - val_loss: 77.3907 - val_mae: 6.4102\n",
      "Epoch 5/7\n",
      "404/404 [==============================] - 1s 3ms/sample - loss: 119.4858 - mae: 8.0056 - val_loss: 78.6807 - val_mae: 6.6817\n",
      "Epoch 5/7\n",
      "404/404 [==============================] - 1s 3ms/sample - loss: 64.3921 - mae: 5.8579 - val_loss: 65.0424 - val_mae: 5.6956\n",
      "Epoch 5/7\n",
      "404/404 [==============================] - 0s 273us/sample - loss: 72.9252 - mae: 6.0213 - val_loss: 68.4794 - val_mae: 6.0738\n",
      "Epoch 6/7\n",
      "404/404 [==============================] - 0s 276us/sample - loss: 86.6026 - mae: 6.6973 - val_loss: 82.6199 - val_mae: 6.3693\n",
      "Epoch 6/7\n",
      "404/404 [==============================] - 0s 236us/sample - loss: 54.8795 - mae: 5.2536 - val_loss: 68.9555 - val_mae: 5.7567\n",
      "Epoch 6/7\n",
      "404/404 [==============================] - 0s 243us/sample - loss: 64.6557 - mae: 5.5482 - val_loss: 79.2492 - val_mae: 6.4793\n",
      "Epoch 7/7\n",
      "404/404 [==============================] - 0s 268us/sample - loss: 92.1981 - mae: 6.9012 - val_loss: 73.5577 - val_mae: 6.1625\n",
      "Epoch 7/7\n",
      "404/404 [==============================] - 0s 263us/sample - loss: 56.3075 - mae: 5.2032 - val_loss: 58.6425 - val_mae: 5.5413\n",
      "Epoch 7/7\n",
      "404/404 [==============================] - 0s 249us/sample - loss: 68.2542 - mae: 5.7936 - val_loss: 68.7498 - val_mae: 6.2593\n",
      "404/404 [==============================] - 0s 225us/sample - loss: 84.1873 - mae: 6.6234 - val_loss: 71.5440 - val_mae: 6.3085\n",
      "404/404 [==============================] - 0s 282us/sample - loss: 53.3678 - mae: 5.1441 - val_loss: 58.8838 - val_mae: 5.4403\n",
      "2022-01-17 19:55:48.733960: I tensorflow/core/platform/cpu_feature_guard.cc:145] This TensorFlow binary is optimized with Intel(R) MKL-DNN to use the following CPU instructions in performance critical operations:  SSE4.1 SSE4.2\n",
      "To enable them in non-MKL-DNN operations, rebuild TensorFlow with the appropriate compiler flags.\n",
      "2022-01-17 19:55:48.742427: I tensorflow/core/common_runtime/process_util.cc:115] Creating new thread pool with default inter op setting: 8. Tune using inter_op_parallelism_threads for best performance.\n",
      "Train on 404 samples, validate on 102 samples\n",
      "Epoch 4/7\n",
      "404/404 [==============================] - 1s 3ms/sample - loss: 88.2067 - mae: 6.7084 - val_loss: 97.2958 - val_mae: 7.8704\n",
      "Epoch 5/7\n",
      "404/404 [==============================] - 0s 126us/sample - loss: 73.2170 - mae: 5.9256 - val_loss: 69.0587 - val_mae: 6.0672\n",
      "Epoch 6/7\n",
      "404/404 [==============================] - 0s 119us/sample - loss: 73.4492 - mae: 6.0680 - val_loss: 82.2365 - val_mae: 6.4606\n",
      "Epoch 7/7\n",
      "404/404 [==============================] - 0s 111us/sample - loss: 71.2436 - mae: 6.0687 - val_loss: 72.1617 - val_mae: 6.4581\n",
      "Train on 404 samples, validate on 102 samples\n",
      "Epoch 8/15\n",
      "Train on 404 samples, validate on 102 samples\n",
      "Epoch 8/15\n",
      "404/404 [==============================] - 1s 2ms/sample - loss: 70.1900 - mae: 5.9932 - val_loss: 82.7984 - val_mae: 6.6312\n",
      "Epoch 9/15\n",
      "404/404 [==============================] - 1s 2ms/sample - loss: 59.6985 - mae: 5.6319 - val_loss: 55.3704 - val_mae: 5.2559\n",
      "Epoch 9/15\n",
      "404/404 [==============================] - 0s 181us/sample - loss: 63.0254 - mae: 5.4802 - val_loss: 89.3153 - val_mae: 7.5918\n",
      "Epoch 10/15\n",
      "404/404 [==============================] - 0s 182us/sample - loss: 52.4906 - mae: 5.1597 - val_loss: 55.5429 - val_mae: 5.5660\n",
      "Epoch 10/15\n",
      "404/404 [==============================] - 0s 166us/sample - loss: 52.7124 - mae: 5.3135 - val_loss: 54.0116 - val_mae: 5.4047\n",
      "Epoch 11/15\n",
      "404/404 [==============================] - 0s 170us/sample - loss: 65.6301 - mae: 5.6685 - val_loss: 75.3113 - val_mae: 6.7607\n",
      "Epoch 11/15\n",
      "404/404 [==============================] - 0s 168us/sample - loss: 66.1288 - mae: 5.7973 - val_loss: 64.7780 - val_mae: 5.9851\n",
      "Epoch 12/15\n",
      "404/404 [==============================] - 0s 170us/sample - loss: 50.2462 - mae: 5.0177 - val_loss: 54.6595 - val_mae: 5.3451\n",
      "Epoch 12/15\n",
      "404/404 [==============================] - 0s 171us/sample - loss: 63.6038 - mae: 5.5211 - val_loss: 64.1203 - val_mae: 5.9308: 0s - loss: 24.0917 - mae: 3.74\n",
      "Epoch 13/15\n",
      "404/404 [==============================] - 0s 176us/sample - loss: 51.7526 - mae: 5.1182 - val_loss: 52.3855 - val_mae: 5.3216\n",
      "Epoch 13/15\n",
      "404/404 [==============================] - 0s 176us/sample - loss: 61.1521 - mae: 5.5356 - val_loss: 67.7645 - val_mae: 6.0385\n",
      "Epoch 14/15\n",
      "404/404 [==============================] - 0s 177us/sample - loss: 49.4447 - mae: 4.9421 - val_loss: 51.8939 - val_mae: 5.2723\n",
      "Epoch 14/15\n",
      "404/404 [==============================] - 0s 171us/sample - loss: 59.1283 - mae: 5.2840 - val_loss: 80.6291 - val_mae: 7.1642\n",
      "Epoch 15/15\n",
      "404/404 [==============================] - 0s 168us/sample - loss: 50.3687 - mae: 5.0899 - val_loss: 52.2430 - val_mae: 5.0597\n",
      "Epoch 15/15\n",
      "404/404 [==============================] - 0s 173us/sample - loss: 61.9260 - mae: 5.6034 - val_loss: 62.9984 - val_mae: 5.8578\n",
      "404/404 [==============================] - 0s 175us/sample - loss: 46.9739 - mae: 4.9161 - val_loss: 73.9127 - val_mae: 6.1914\n"
     ]
    },
    {
     "name": "stdout",
     "output_type": "stream",
     "text": [
      "CPU times: user 428 ms, sys: 132 ms, total: 560 ms\n",
      "Wall time: 1min 6s\n"
     ]
    },
    {
     "data": {
      "text/plain": [
       "[{'trial': {'trial_id': '5679b586-e31c-5b98-84ea-2a779201a450', 'params': {'__space__model': '__main__.HousingSpec', 'l1': 24, 'l2': 27}, 'metadata': {}, 'keys': []}, 'metric': 5.857834815979004, 'params': {'__space__model': '__main__.HousingSpec', 'l1': 24, 'l2': 27}, 'metadata': {}, 'cost': 8.0, 'rung': 3, 'sort_metric': 5.857834815979004, 'log_time': datetime.datetime(2022, 1, 17, 19, 55, 57, 783590)},\n",
       " {'trial': {'trial_id': '90c3d0d6-d3c6-54f1-b59a-fdd7233e83b2', 'params': {'__space__model': '__main__.HousingSpec', 'l1': 31, 'l2': 18}, 'metadata': {}, 'keys': []}, 'metric': 6.191352367401123, 'params': {'__space__model': '__main__.HousingSpec', 'l1': 31, 'l2': 18}, 'metadata': {}, 'cost': 8.0, 'rung': 3, 'sort_metric': 6.191352367401123, 'log_time': datetime.datetime(2022, 1, 17, 19, 55, 57, 785641)}]"
      ]
     },
     "execution_count": 10,
     "metadata": {},
     "output_type": "execute_result"
    }
   ],
   "source": [
    "%%time\n",
    "\n",
    "space = keras_space(HousingSpec, l1=RandInt(8,32), l2=RandInt(8,32))\n",
    "\n",
    "result = suggest_keras_models_by_sha(\n",
    "    space.sample(16,0),\n",
    "    plan=[(1.0,8),(2.0,4),(4.0,2),(8.0,1)],\n",
    "    execution_engine=\"spark\",\n",
    "    top_n=2,\n",
    ")\n",
    "\n",
    "result"
   ]
  },
  {
   "cell_type": "markdown",
   "id": "eb63705f",
   "metadata": {},
   "source": [
    "## Run with realtime monitoring\n",
    "\n",
    "On notebooks, it's important and fun to track the progress in real time. In tune you can enable realtime callback with a monitor to watch the progress. There are 3 types of built in monitors for iterative problems:\n",
    "\n",
    "1. ts to monitor the up-to-date best metric collected\n",
    "2. hist to motitor the histogram of metrics collected\n",
    "3. rungs to monitor the trails performance at each rung\n",
    "\n",
    "Notice to enable realtime monitoring, you must enable callback in execution_engine_conf.\n",
    "\n",
    "In this example, we also added a warmup period. So the first rung will run more epochs before discarding bad ones."
   ]
  },
  {
   "cell_type": "code",
   "execution_count": 11,
   "id": "fb96b4fd",
   "metadata": {},
   "outputs": [],
   "source": [
    "from typing import Optional\n",
    "from tune import Monitor\n",
    "from tune_notebook import (\n",
    "    NotebookSimpleHist,\n",
    "    NotebookSimpleRungs,\n",
    "    NotebookSimpleTimeSeries,\n",
    "    PrintBest,\n",
    ")\n",
    "\n",
    "def to_monitor(obj) -> Optional[Monitor]:\n",
    "    if obj is None:\n",
    "        return None\n",
    "    if isinstance(obj, Monitor):\n",
    "        return obj\n",
    "    if isinstance(obj, str):\n",
    "        if obj == \"hist\":\n",
    "            return NotebookSimpleHist()\n",
    "        if obj == \"rungs\":\n",
    "            return NotebookSimpleRungs()\n",
    "        if obj == \"ts\":\n",
    "            return NotebookSimpleTimeSeries()\n",
    "        if obj == \"text\":\n",
    "            return PrintBest()\n",
    "    raise NotImplementedError(obj)\n",
    "\n",
    "TUNE_OBJECT_FACTORY.set_monitor_converter(to_monitor)"
   ]
  },
  {
   "cell_type": "code",
   "execution_count": 12,
   "id": "acacf28c",
   "metadata": {},
   "outputs": [
    {
     "data": {
      "image/png": "[encoded data removed]",
      "text/plain": [
       "<Figure size 432x288 with 1 Axes>"
      ]
     },
     "metadata": {
      "needs_background": "light"
     },
     "output_type": "display_data"
    },
    {
     "name": "stdout",
     "output_type": "stream",
     "text": [
      "[] 5.078456878662109 {'trial': {'trial_id': 'bcf35cc2-c02e-5d5f-b501-24c66ccae969', 'params': {'__space__model': '__main__.HousingSpec', 'l1': 21, 'l2': 29}, 'metadata': {}, 'keys': []}, 'metric': 5.078456878662109, 'params': {'__space__model': '__main__.HousingSpec', 'l1': 21, 'l2': 29}, 'metadata': {}, 'cost': 8.0, 'rung': 3, 'sort_metric': 5.078456878662109, 'log_time': datetime.datetime(2022, 1, 17, 19, 56, 35, 199312)}\n",
      "CPU times: user 34.5 s, sys: 1.84 s, total: 36.4 s\n",
      "Wall time: 33.8 s\n"
     ]
    },
    {
     "data": {
      "text/plain": [
       "[{'trial': {'trial_id': 'bcf35cc2-c02e-5d5f-b501-24c66ccae969', 'params': {'__space__model': '__main__.HousingSpec', 'l1': 21, 'l2': 29}, 'metadata': {}, 'keys': []}, 'metric': 5.078456878662109, 'params': {'__space__model': '__main__.HousingSpec', 'l1': 21, 'l2': 29}, 'metadata': {}, 'cost': 8.0, 'rung': 3, 'sort_metric': 5.078456878662109, 'log_time': datetime.datetime(2022, 1, 17, 19, 56, 35, 199312)},\n",
       " {'trial': {'trial_id': '1853040c-56d3-5f9d-9fb5-0b1747648f14', 'params': {'__space__model': '__main__.HousingSpec', 'l1': 22, 'l2': 21}, 'metadata': {}, 'keys': []}, 'metric': 5.784449100494385, 'params': {'__space__model': '__main__.HousingSpec', 'l1': 22, 'l2': 21}, 'metadata': {}, 'cost': 8.0, 'rung': 3, 'sort_metric': 5.784449100494385, 'log_time': datetime.datetime(2022, 1, 17, 19, 56, 36, 338849)}]"
      ]
     },
     "execution_count": 12,
     "metadata": {},
     "output_type": "execute_result"
    }
   ],
   "source": [
    "%%time\n",
    "space = keras_space(HousingSpec, l1=RandInt(8,32), l2=RandInt(8,32))\n",
    "warmup = 4\n",
    "\n",
    "result = suggest_keras_models_by_sha(\n",
    "    space.sample(16,0),\n",
    "    plan=[(warmup+1.0,8),(2.0,4),(4.0,2),(8.0,1)],\n",
    "    execution_engine_conf={\"callback\":True},\n",
    "    monitor=\"rungs\",\n",
    "    top_n=2,\n",
    ")\n",
    "\n",
    "result"
   ]
  },
  {
   "cell_type": "markdown",
   "id": "cb06c528",
   "metadata": {},
   "source": [
    "## Hyperband\n",
    "\n",
    "Traditional Hyperband is roughly a grid search of traditional Successive Halving. In our solution, we generalized Hyperband. You can provide the plan by a two dimensional array, and you can invent your own!"
   ]
  },
  {
   "cell_type": "code",
   "execution_count": 13,
   "id": "b7853aec",
   "metadata": {},
   "outputs": [
    {
     "data": {
      "image/png": "[encoded data removed]",
      "text/plain": [
       "<Figure size 432x288 with 1 Axes>"
      ]
     },
     "metadata": {
      "needs_background": "light"
     },
     "output_type": "display_data"
    },
    {
     "name": "stdout",
     "output_type": "stream",
     "text": [
      "[] 5.534700870513916 {'trial': {'trial_id': '360e486c-6d27-5abc-bb8d-c9bd388e62c3', 'params': {'__space__model': '__main__.HousingSpec', 'l1': 25, 'l2': 28}, 'metadata': {}, 'keys': []}, 'metric': 5.534700870513916, 'params': {'__space__model': '__main__.HousingSpec', 'l1': 25, 'l2': 28}, 'metadata': {}, 'cost': 8.0, 'rung': 3, 'sort_metric': 5.534700870513916, 'log_time': datetime.datetime(2022, 1, 17, 19, 57, 15, 810145)}\n",
      "CPU times: user 4.08 s, sys: 452 ms, total: 4.53 s\n",
      "Wall time: 1min 38s\n"
     ]
    },
    {
     "data": {
      "text/plain": [
       "[{'trial': {'trial_id': '360e486c-6d27-5abc-bb8d-c9bd388e62c3', 'params': {'__space__model': '__main__.HousingSpec', 'l1': 25, 'l2': 28}, 'metadata': {}, 'keys': []}, 'metric': 5.534700870513916, 'params': {'__space__model': '__main__.HousingSpec', 'l1': 25, 'l2': 28}, 'metadata': {}, 'cost': 8.0, 'rung': 3, 'sort_metric': 5.534700870513916, 'log_time': datetime.datetime(2022, 1, 17, 19, 57, 15, 810145)},\n",
       " {'trial': {'trial_id': 'deef37ff-4cff-5de3-8320-fc5246922a74', 'params': {'__space__model': '__main__.HousingSpec', 'l1': 18, 'l2': 19}, 'metadata': {}, 'keys': []}, 'metric': 5.626887321472168, 'params': {'__space__model': '__main__.HousingSpec', 'l1': 18, 'l2': 19}, 'metadata': {}, 'cost': 8.0, 'rung': 1, 'sort_metric': 5.626887321472168, 'log_time': datetime.datetime(2022, 1, 17, 19, 58, 0, 672435)}]"
      ]
     },
     "execution_count": 13,
     "metadata": {},
     "output_type": "execute_result"
    }
   ],
   "source": [
    "%%time\n",
    "result = suggest_keras_models_by_hyperband(\n",
    "    space.sample(16,0),\n",
    "    plans=[\n",
    "        [(1.0,8),(2.0,4),(4.0,2),(8.0,1)],\n",
    "        [(2.0,4),(4.0,2),(8.0,1)],\n",
    "        [(4.0,2),(8.0,1)],\n",
    "    ],\n",
    "    execution_engine=spark,\n",
    "    execution_engine_conf={\"callback\":True},\n",
    "    monitor=\"rungs\",\n",
    "    top_n=2,\n",
    ")\n",
    "\n",
    "result"
   ]
  },
  {
   "cell_type": "markdown",
   "id": "cc946716",
   "metadata": {},
   "source": [
    "## Asynchronous Success Halving\n",
    "\n",
    "ASHA is an improved version of SHA. The idea is simple but the impact is big. Although on this Kaggle CPU instance, we can't show the full power of ASHA, but in practice, if you have a decent amount of compute resource, ASHA will out perform SHA and Hyperband on almost every aspect: searching speed, cost, output model performance.\n",
    "\n",
    "Even on this machine, you can see the time take for ASHA is a lot less than SHA with more searches done."
   ]
  },
  {
   "cell_type": "code",
   "execution_count": 14,
   "id": "6f3065b3",
   "metadata": {},
   "outputs": [
    {
     "data": {
      "image/png": "[encoded data removed]",
      "text/plain": [
       "<Figure size 432x288 with 1 Axes>"
      ]
     },
     "metadata": {
      "needs_background": "light"
     },
     "output_type": "display_data"
    },
    {
     "name": "stdout",
     "output_type": "stream",
     "text": [
      "[] 5.175924777984619 {'trial': {'trial_id': 'f63f8520-5581-52af-b8bd-8d2d23b7e831', 'params': {'__space__model': '__main__.HousingSpec', 'l1': 21, 'l2': 11}, 'metadata': {}, 'keys': []}, 'metric': 5.175924777984619, 'params': {'__space__model': '__main__.HousingSpec', 'l1': 21, 'l2': 11}, 'metadata': {}, 'cost': 8.0, 'rung': 3, 'sort_metric': 5.175924777984619, 'log_time': datetime.datetime(2022, 1, 17, 19, 58, 28, 403762)}\n"
     ]
    },
    {
     "name": "stderr",
     "output_type": "stream",
     "text": [
      "404/404 [==============================] - 1s 3ms/sample - loss: 62.7986 - mae: 5.4580 - val_loss: 63.1626 - val_mae: 6.0242\n",
      "Epoch 10/16\n",
      "404/404 [==============================] - 0s 132us/sample - loss: 56.0847 - mae: 5.1227 - val_loss: 85.6432 - val_mae: 7.7297\n",
      "Epoch 11/16\n",
      "404/404 [==============================] - 0s 118us/sample - loss: 56.0394 - mae: 5.2751 - val_loss: 58.2662 - val_mae: 5.5350\n",
      "Epoch 12/16\n",
      "404/404 [==============================] - 0s 111us/sample - loss: 55.7567 - mae: 5.1046 - val_loss: 65.8581 - val_mae: 5.8243\n",
      "Epoch 13/16\n",
      "404/404 [==============================] - 0s 108us/sample - loss: 52.1970 - mae: 4.9439 - val_loss: 68.7707 - val_mae: 6.0233\n",
      "Epoch 14/16\n",
      "404/404 [==============================] - 0s 109us/sample - loss: 54.3618 - mae: 5.1161 - val_loss: 88.8879 - val_mae: 8.0009\n",
      "Epoch 15/16\n",
      "404/404 [==============================] - 0s 139us/sample - loss: 53.7091 - mae: 5.2220 - val_loss: 60.4695 - val_mae: 5.5697\n",
      "Epoch 16/16\n",
      "404/404 [==============================] - 0s 143us/sample - loss: 53.2826 - mae: 5.0622 - val_loss: 70.9657 - val_mae: 6.8227\n"
     ]
    },
    {
     "name": "stdout",
     "output_type": "stream",
     "text": [
      "CPU times: user 1.42 s, sys: 191 ms, total: 1.61 s\n",
      "Wall time: 25.2 s\n"
     ]
    },
    {
     "data": {
      "text/plain": [
       "[{'trial': {'trial_id': 'f63f8520-5581-52af-b8bd-8d2d23b7e831', 'params': {'__space__model': '__main__.HousingSpec', 'l1': 21, 'l2': 11}, 'metadata': {}, 'keys': []}, 'metric': 5.175924777984619, 'params': {'__space__model': '__main__.HousingSpec', 'l1': 21, 'l2': 11}, 'metadata': {}, 'cost': 8.0, 'rung': 3, 'sort_metric': 5.175924777984619, 'log_time': datetime.datetime(2022, 1, 17, 19, 58, 28, 403762)},\n",
       " {'trial': {'trial_id': '00dc3281-97eb-5e4f-a486-32d8dedc674f', 'params': {'__space__model': '__main__.HousingSpec', 'l1': 10, 'l2': 22}, 'metadata': {}, 'keys': []}, 'metric': 5.658406734466553, 'params': {'__space__model': '__main__.HousingSpec', 'l1': 10, 'l2': 22}, 'metadata': {}, 'cost': 4.0, 'rung': 2, 'sort_metric': 5.658406734466553, 'log_time': datetime.datetime(2022, 1, 17, 19, 58, 26, 639210)}]"
      ]
     },
     "execution_count": 14,
     "metadata": {},
     "output_type": "execute_result"
    }
   ],
   "source": [
    "%%time\n",
    "warmup = 1\n",
    "\n",
    "result = suggest_keras_models_by_continuous_asha(\n",
    "    space.sample(64,0),  # ASHA will use up to 64 samples\n",
    "    plan=[(warmup+1.0,8),(2.0,4),(4.0,2),(8.0,1)],\n",
    "    execution_engine=spark,\n",
    "    execution_engine_conf={\"callback\":True},\n",
    "    monitor=\"rungs\",\n",
    "    top_n=2,\n",
    ")\n",
    "\n",
    "result"
   ]
  },
  {
   "cell_type": "markdown",
   "id": "13d8e586",
   "metadata": {},
   "source": [
    "## Summary\n",
    "\n",
    "Successive Halving and Hyperband are great if you don't have a lot of compute resource. ASHA is great if have sufficient compute resource.\n",
    "\n",
    "We have generalized all these algorithms so you can fully customize the tuning plan by just providing arrays. And the process is scale agnostic and platform agnostice, as long as you have a distributed framework available, you can easily scale up the search while tracking the progress in real time."
   ]
  }
 ],
 "metadata": {
  "kernelspec": {
   "display_name": "Python 3 (ipykernel)",
   "language": "python",
   "name": "python3"
  },
  "language_info": {
   "codemirror_mode": {
    "name": "ipython",
    "version": 3
   },
   "file_extension": ".py",
   "mimetype": "text/x-python",
   "name": "python",
   "nbconvert_exporter": "python",
   "pygments_lexer": "ipython3",
   "version": "3.7.11"
  }
 },
 "nbformat": 4,
 "nbformat_minor": 5
}
